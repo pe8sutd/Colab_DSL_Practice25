{
  "cells": [
    {
      "cell_type": "markdown",
      "metadata": {
        "id": "view-in-github",
        "colab_type": "text"
      },
      "source": [
        "<a href=\"https://colab.research.google.com/github/pe8sutd/Colab_DSL_Practice25/blob/main/T03_CmodA7_UART_ADC.ipynb\" target=\"_parent\"><img src=\"https://colab.research.google.com/assets/colab-badge.svg\" alt=\"Open In Colab\"/></a>"
      ]
    },
    {
      "cell_type": "markdown",
      "metadata": {
        "id": "YRZDBQE42LDt"
      },
      "source": [
        "# T03 - CMOD A7 UART & ADC\n",
        "\n",
        "## Objective  \n",
        "Develop a Verilog-based ADC driver for the **CMOD A7 FPGA board** to interface with an SPI-based **MCP3202 ADC** (on a PMOD extension board). The project includes:  \n",
        "- Displaying ADC results on a 4-digit 7-segment display.  \n",
        "- Transmitting data to a PC via UART.  \n",
        "\n",
        "---\n",
        "\n",
        "## Key Features  \n",
        "1. **Reset Functionality**  \n",
        "   - Press **BTN1** to reset the system and reinitialize components.  \n",
        "\n",
        "2. **SPI ADC Driver**  \n",
        "   - Interface with MCP3202 ADC via SPI protocol.  \n",
        "   - Ensure accurate timing and data handling for sampling.  \n",
        "\n",
        "3. **ADC Value Display**  \n",
        "   - Process sampled data and display results on the 7-segment display.  \n",
        "\n",
        "4. **UART Transmission**  \n",
        "   - Transmit ADC data to a PC with configurable baud rate (e.g., 115200).  \n",
        "\n",
        "---\n",
        "\n",
        "## Deliverables  \n",
        "- **Verilog Code** for:  \n",
        "  - SPI ADC driver  \n",
        "  - 7-segment display controller  \n",
        "  - UART transmitter  \n",
        "- **Demonstration Video** (MP4, ≤1 min) showing:  \n",
        "  - Light sensor sampling → 7-segment display  \n",
        "  - Light sensor sampling → UART transmission to PC  \n",
        "  - Customized feature (optional)  \n",
        "\n",
        "---\n",
        "\n",
        "## Instructions  \n",
        "\n",
        "### Hardware Preparation  \n",
        "1. **7-Segment Display**  \n",
        "   - Use the **3642AS-1** 4-digit display.\n",
        "\n",
        "| FPGA Pin  | Segment/Digit Pin | Segment Label    |\n",
        "|-----------|-------------------|------------------|\n",
        "| PIO48     | 7                 | Segment-B        |\n",
        "| PIO47     | 8                 | Dig3 (Digit 3)   |\n",
        "| PIO46     | 9                 | Dig2 (Digit 2)   |\n",
        "| PIO45     | 10                | Segment-F        |\n",
        "| PIO44     | 11                | Segment-A        |\n",
        "| PIO43     | 12                | Dig1 (Digit 1)   |\n",
        "| PIO42     | 1                 | Segment-E        |\n",
        "| PIO41     | 2                 | Segment-D        |\n",
        "| PIO40     | 3                 | Segment-DP       |\n",
        "| PIO39     | 4                 | Segment-C        |\n",
        "| PIO38     | 5                 | Segment-G        |\n",
        "| PIO37     | 6                 | Dig4 (Digit 4)   |\n",
        "\n",
        "   - Connection Demo\n",
        "   ![Connect Schematic](https://github.com/pe8sutd/Colab_DSL_Practice25/blob/main/figure/T03_Connect.JPEG?raw=1)\n",
        "\n",
        "2. **MCP3202 ADC Extension Board**  \n",
        "   - Channel selection via SW1:  \n",
        "     - **Left**: External signals (EX0/EX1 → CH0/CH1)  \n",
        "     - **Right**: Onboard NTC (temp sensor) and LIGHT (ambient light sensor) → CH1/CH0.\n",
        "     - **[Schematic](https://github.com/pe8sutd/Colab_DSL_Practice25/blob/0865141e546e601a029f7c385b6bd2fd61b6fdb0/Demo_Code/T03_CmodA7_Uart_ADC/Figure/Schematic_M2_Temp_Light_Sensor.pdf)**: https://github.com/pe8sutd/Colab_DSL_Practice25/blob/0865141e546e601a029f7c385b6bd2fd61b6fdb0/Demo_Code/T03_CmodA7_Uart_ADC/Figure/Schematic_M2_Temp_Light_Sensor.pdf\n",
        "\n",
        "     ![Ext Board Schematic](https://github.com/pe8sutd/Colab_DSL_Practice25/blob/main/figure/T03_Ext.png?raw=1)\n",
        "\n",
        "### FPGA Project  \n",
        "1. **Vivado Setup**  \n",
        "   - Create a project for **CMOD A7-35T**.  \n",
        "\n",
        "2. **Verilog Implementation**  \n",
        "\n",
        "3. **Constraint File (.xdc)**  \n",
        "\n",
        "4. **Bitstream & Programming**  \n",
        "   - Generate and flash the bitstream to the FPGA.  \n",
        "\n",
        "5. **Testing & Documentation**  \n",
        "   - Debug using onboard LEDs/UART output.  \n",
        "\n",
        "---\n",
        "\n",
        "## Simulation on Colab\n",
        "[![Open in Colab](https://colab.research.google.com/assets/colab-badge.svg)](https://colab.research.google.com/github/pe8sutd/Colab_DSL_Practice25/blob/main/Simulation/simT03_CmodA7_UART_ADC.ipynb)\n",
        "\n",
        "---\n",
        "\n",
        "## Deadline  \n",
        "- Submit via edimension by the specified due date.  \n",
        "\n",
        "---\n",
        "\n",
        "## Grading  \n",
        "- **Functionality** (50%): SPI/UART accuracy, display working.  \n",
        "- **Code Clarity** (30%): Clean Verilog, proper constraints.  \n",
        "- **Documentation** (20%): Report, diagrams, challenges.  \n",
        "- **Bonus**: Innovativeness (up to +30%).  \n",
        "\n",
        "- The report should present how AI is used in the design (if applicable). The guideline: [![Open in Colab](https://colab.research.google.com/assets/colab-badge.svg)](https://github.com/pe8sutd/Colab_DSL_Practice25/blob/main/G01_Used_of_AI_in_Design.ipynb)\n",
        "\n",
        "\n",
        "---\n",
        "\n",
        "\n"
      ]
    },
    {
      "cell_type": "markdown",
      "source": [
        "##Appendix"
      ],
      "metadata": {
        "id": "2krfPLruQ8pX"
      }
    },
    {
      "cell_type": "markdown",
      "source": [
        "\n",
        "### 7-Segment Display Schematic\n",
        "![7-Segment Display Schematic](https://github.com/pe8sutd/Colab_DSL_Practice25/blob/main/figure/T03_7Segment.png?raw=1)\n",
        "\n",
        "\n",
        "### MCP3202 ADC  \n",
        "- **Datasheet**: [MCP3202 Datasheet](https://pdf1.alldatasheet.com/datasheet-pdf/view/74935/MICROCHIP/MCP3202.html)  \n",
        "- **PCB Layout**:  \n",
        "  - Use headers J1/J2 for breadboard mounting.  \n",
        "  - Input options: SMA port or 2.54mm header.  \n",
        "\n",
        "### Demo Figures  \n",
        "1. **ADC Sampling & UART Transmission**\n",
        "\n",
        "   ![ADC-UART](https://github.com/pe8sutd/Colab_DSL_Practice25/blob/main/figure/T03_ADC_UART.png?raw=1)  \n",
        "\n",
        "2. **Light Sensor Response**  \n",
        "\n",
        "   ![Light Sensor](https://github.com/pe8sutd/Colab_DSL_Practice25/blob/main/figure/T03_Light.png?raw=1)  \n",
        "\n",
        "---\n",
        "\n",
        "## References  \n",
        "- **Demo Code**: [CMODA7_Demo_MCP3202_SPI_Verilog](./Demo_Code/T03_CmodA7_Uart_ADC)  \n",
        "- **Vivado Guide**: [Vivado Guide Link](https://classroom.google.com/u/0/c/NzM2NTAyNzI3NDY5/m/NzI1OTgzMjk4NTI2/details)  \n",
        "- **EasyEDA Tutorial**: PCB design guidelines for CMOD A7.  "
      ],
      "metadata": {
        "id": "jXz3TV2WQZV_"
      }
    },
    {
      "cell_type": "markdown",
      "source": [],
      "metadata": {
        "id": "OP9fTvKuJHp6"
      }
    }
  ],
  "metadata": {
    "language_info": {
      "name": "python"
    },
    "colab": {
      "provenance": [],
      "include_colab_link": true
    }
  },
  "nbformat": 4,
  "nbformat_minor": 0
}