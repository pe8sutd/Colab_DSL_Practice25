{
  "cells": [
    {
      "cell_type": "markdown",
      "metadata": {
        "id": "view-in-github",
        "colab_type": "text"
      },
      "source": [
        "<a href=\"https://colab.research.google.com/github/pe8sutd/Colab_DSL_Practice25/blob/main/T02_Basys3_StopWatch.ipynb\" target=\"_parent\"><img src=\"https://colab.research.google.com/assets/colab-badge.svg\" alt=\"Open In Colab\"/></a>"
      ]
    },
    {
      "cell_type": "markdown",
      "source": [
        "# T02: Stopwatch on Basys 3"
      ],
      "metadata": {
        "id": "AGI9dTkyvqHU"
      }
    },
    {
      "cell_type": "markdown",
      "source": [
        "## Objective:"
      ],
      "metadata": {
        "id": "b0Ci1rh4wr46"
      }
    },
    {
      "cell_type": "markdown",
      "source": [
        "\n",
        "Design and implement a **stopwatch** on the **Basys 3 FPGA** board using Verilog, making use of the **4-digit** **7-segment** display LEDs for time display. The stopwatch should have the following features:  \n",
        "1. **Reset functionality**: Press a button (e.g., `btnR`) to restart the stopwatch.  \n",
        "2. **Time Display**: Display the elapsed time in minutes and seconds on the 4-digit 7-segment display.  \n",
        "3. **Update Frequency**: Update the display at a reasonable frequency (e.g., every 1 second)."
      ],
      "metadata": {
        "id": "yn8KcwRHvvOR"
      }
    },
    {
      "cell_type": "markdown",
      "source": [
        "## Instructions  "
      ],
      "metadata": {
        "id": "a-Hza8S3v7iq"
      }
    },
    {
      "cell_type": "markdown",
      "source": [
        "### FPGA Project  \n",
        "1. Create a new Vivado project for the Basys 3 FPGA board.  \n",
        "2. Write Verilog code to implement the stopwatch logic.  \n",
        "3. Map the Verilog design to the Basys 3 board's resources via the basys3 [constraint file](./Demo_Code/basys3_template.xdc) (`.xdc`).   \n",
        "4. Generate the bitstream file.\n",
        "5. Program the FPGA board with the bitstream.  \n",
        "6. Test and debug your stopwatch design on the FPGA board to ensure correct functionality.  \n",
        "7. Document your design, including the Verilog code, functional diagrams, and challenges faced during implementation.  \n",
        "8. **Demo Vivado Project**: [T02_Basys3_StopWatch](./Demo_Code/T02_Basys3_StopWatch)"
      ],
      "metadata": {
        "id": "gIDg0xLWwez7"
      }
    },
    {
      "cell_type": "markdown",
      "source": [
        "## Simulation"
      ],
      "metadata": {
        "id": "UgHn-w67xBOZ"
      }
    },
    {
      "cell_type": "markdown",
      "source": [
        "\n",
        "- [Verify functionality using testbenches and waveform analysis.](Simulation/simT02_Basys3_StopWatch_SSD.ipynb)  \n",
        "\n",
        "\n"
      ],
      "metadata": {
        "id": "30dd_HiTwLPy"
      }
    },
    {
      "cell_type": "markdown",
      "source": [
        "### Additional Challenge (*Optional*):"
      ],
      "metadata": {
        "id": "n97dFqn8xeqq"
      }
    },
    {
      "cell_type": "markdown",
      "source": [
        "  \n",
        "Add features like **pause/resume functionality** to the stopwatch design.  "
      ],
      "metadata": {
        "id": "Fjny3JVQxUkh"
      }
    },
    {
      "cell_type": "markdown",
      "source": [
        "## Submission:"
      ],
      "metadata": {
        "id": "d9fXRE2Dw4sa"
      }
    },
    {
      "cell_type": "markdown",
      "metadata": {
        "id": "Mz7jZ0eQ1Otu"
      },
      "source": [
        "\n",
        "*This is a group work. Only one member needs to submit the materials.*  \n",
        "1. A self-contained `ipynb` file which:  \n",
        "   - **Google Colab link** and **GitHub link**.  \n",
        "   - **Verilog codes** (module, testbench, waveform, AI prompt, etc.).  \n",
        "   - A **brief report** documenting the design, Python code (e.g., logic expressions, AI-generated code), challenges, and lessons learned;\n",
        "2. A **demonstration video** (less than 1 minute, `.mp4` format).\n",
        "* Submit to **edimension** and share with instructor GitHub: `pe8sutd`, `pe8sutd@gmail.com`.  \n",
        "3. The report should report how AI is used in the design (if applicable). The guideline: [![Open in Colab](https://colab.research.google.com/assets/colab-badge.svg)](https://github.com/pe8sutd/Colab_DSL_Practice25/blob/main/G01_Used_of_AI_in_Design.ipynb)\n",
        "\n",
        "\n",
        "---\n",
        "\n",
        "### Deadline:  \n",
        "Refer to the due date in the **edimension submission folder**.  \n",
        "\n",
        "---\n",
        "\n",
        "### Grading:  \n",
        "Based on:  \n",
        "- Functionality of the stopwatch.  \n",
        "- Clarity of Verilog code.  \n",
        "- Quality of documentation.  \n",
        "*Bonus points for additional features or creative implementations.*  \n",
        "\n",
        "---\n",
        "\n"
      ]
    },
    {
      "cell_type": "markdown",
      "source": [
        "## Demo Video  \n"
      ],
      "metadata": {
        "id": "6812PdUV1SyA"
      }
    },
    {
      "cell_type": "markdown",
      "source": [
        "The short [video](https://youtu.be/xX5csfU79kQ) demonstrating the stopwatch’s functionality on the Basys 3 board.\n",
        "https://youtu.be/xX5csfU79kQ"
      ],
      "metadata": {
        "id": "Jp3ActGh1X8n"
      }
    }
  ],
  "metadata": {
    "language_info": {
      "name": "python"
    },
    "colab": {
      "provenance": [],
      "include_colab_link": true
    }
  },
  "nbformat": 4,
  "nbformat_minor": 0
}