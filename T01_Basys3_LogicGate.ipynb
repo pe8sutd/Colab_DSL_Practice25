{
  "cells": [
    {
      "cell_type": "markdown",
      "metadata": {
        "id": "view-in-github",
        "colab_type": "text"
      },
      "source": [
        "<a href=\"https://colab.research.google.com/github/pe8sutd/Colab_DSL_Practice25/blob/main/T01_Basys3_LogicGate.ipynb\" target=\"_parent\"><img src=\"https://colab.research.google.com/assets/colab-badge.svg\" alt=\"Open In Colab\"/></a>"
      ]
    },
    {
      "cell_type": "markdown",
      "source": [
        "# T01: Basic Logic Gates on Basys 3 (T01_Basys3_LogicGate)"
      ],
      "metadata": {
        "id": "IOtLoFKHOPuV"
      }
    },
    {
      "cell_type": "markdown",
      "source": [
        "## Objectives:"
      ],
      "metadata": {
        "id": "SKAB6ho8VqnU"
      }
    },
    {
      "cell_type": "markdown",
      "source": [
        "\n",
        "Design and implement basic logic gates (NOT, AND, OR, XOR, NAND, NOR, XNOR) on the Basys 3 FPGA board using Verilog. Use switches `sw[0]` and `sw[1]` as inputs and LEDs `led[7:0]` to display the output of each gate. Demonstrate the input-output relationship using a truth table."
      ],
      "metadata": {
        "id": "zz7sAPXcObbr"
      }
    },
    {
      "cell_type": "markdown",
      "source": [
        "## Features:"
      ],
      "metadata": {
        "id": "0K4ku07uVvX7"
      }
    },
    {
      "cell_type": "markdown",
      "source": [
        "\n",
        "1. **Inputs**:  \n",
        "   - `sw[0]` (Input A)  \n",
        "   - `sw[1]` (Input B)  \n",
        "2. **Outputs**:  \n",
        "   - Use `led[0]` to `led[7]` to represent the output of each logic gate (see table below).  \n",
        "3. **Truth Table**:\n",
        "\n",
        "| sw[1] (B) | sw[0] (A) | NOT A (led[0]) | NOT B (led[1]) | AND (led[2]) | OR (led[3]) | NOR (led[4]) | NAND (led[5]) | XOR (led[6]) | XNOR (led[7]) |\n",
        "|:---------:|:---------:|:--------------:|:--------------:|:-----------:|:----------:|:-----------:|:------------:|:-----------:|:------------:|\n",
        "| 0         | 0         | 1              | 1              | 0           | 0          | 1           | 1            | 0           | 1            |\n",
        "| 0         | 1         | 0              | 1              | 0           | 1          | 0           | 1            | 1           | 0            |\n",
        "| 1         | 0         | 1              | 0              | 0           | 1          | 0           | 1            | 1           | 0            |\n",
        "| 1         | 1         | 0              | 0              | 1           | 1          | 0           | 0            | 0           | 1            |\n"
      ],
      "metadata": {
        "id": "d_i2PJivOhV7"
      }
    },
    {
      "cell_type": "markdown",
      "source": [
        "## Instructions"
      ],
      "metadata": {
        "id": "scDyn9skO0zL"
      }
    },
    {
      "cell_type": "markdown",
      "source": [
        "  \n",
        "### FPGA Project  \n",
        "1. **Install Vivado** if you have not done so. [O1 Install Vivado FPGA Development Environment](https://classroom.google.com/c/NzM2NTAyNzI3NDY5/m/NzM3NDY5Mzk4NDQy/details)\n",
        "\n",
        "2. **General Guides for Creating a new Vivado project** for the Basys 3 board. [O2 Vivado Project Guideline](https://classroom.google.com/u/0/c/NzM2NTAyNzI3NDY5/m/NzI1OTgzMjk4NTI2/details).\n",
        "\n",
        "3. **Implementation**: There are two parts in this handson. The guidelines are illustrated in [simT01_Basys3_LogicGate](https://classroom.google.com/c/NzM2NTAyNzI3NDY5/m/NzM4NDA0MDkwMDQ5/details), where Youtube guides are also available.  \n",
        "  - Simulation in Google Colab.\n",
        "    - **Write a testbench** to verify all gate behaviors across all input combinations.  \n",
        "    - **Simulate** the design and confirm outputs match the truth table.  \n",
        "  - Copy the Verilog HDL files from Google Colab to Vivado.\n",
        "\n",
        "4. **Key Steps**\n",
        "  - i. **Write Verilog code** to implement the logic gates, mapping `sw[0]` and `sw[1]` as inputs and `led[0]` to `led[7]` as outputs.  \n",
        "\n",
        "  - ii. **Map the design** to the Basys 3 board’s switches and LEDs using a `.xdc` constraint file.\n",
        "  \n",
        "  https://github.com/Digilent/digilent-xdc/blob/master/Basys-3-Master.xdc\n",
        "\n",
        "  - iii. **Generate the bitstream**, program the FPGA, and test the logic gates.  "
      ],
      "metadata": {
        "id": "gmlezIvSOtgs"
      }
    },
    {
      "cell_type": "markdown",
      "source": [
        "## Submission:"
      ],
      "metadata": {
        "id": "BJE6AckDU9ys"
      }
    },
    {
      "cell_type": "markdown",
      "source": [
        "1. A self-contained `ipynb` file with:  \n",
        "   - **Verilog code** (module, testbench, and waveform screenshots).  \n",
        "   - **Google Colab/GitHub link** for collaboration.  \n",
        "   - **Demo video** (showing switch inputs and LED outputs).  \n",
        "   - **Brief report** documenting design steps, challenges, and lessons learned.\n",
        "   - The report should present how AI is used in the design (if applicable). The guideline: [![Open in Colab](https://colab.research.google.com/assets/colab-badge.svg)](https://github.com/pe8sutd/Colab_DSL_Practice25/blob/main/G01_Used_of_AI_in_Design.ipynb)\n",
        "     \n",
        "2. Submit to **edimension** and share with instructor GitHub: `pe8sutd`."
      ],
      "metadata": {
        "id": "xTJMWuQRVQHr"
      }
    },
    {
      "cell_type": "markdown",
      "metadata": {
        "id": "N9HQ5uAudE4i"
      },
      "source": [
        "### Deadline:  \n",
        "Refer to the due date in the **edimension submission folder**.  \n",
        "\n",
        "---\n",
        "\n",
        "### Grading:  \n",
        "- Correct implementation of all logic gates.  \n",
        "- Accuracy of truth table and simulation results.  \n",
        "- Code readability and constraint file correctness.\n",
        "\n",
        "---\n",
        "\n",
        "\n"
      ]
    },
    {
      "cell_type": "markdown",
      "source": [
        "## Demo"
      ],
      "metadata": {
        "id": "ry2RShl0zumm"
      }
    },
    {
      "cell_type": "markdown",
      "source": [
        "Show the LEDs updating in real-time as switches `sw[0]` and `sw[1]` toggle.\n",
        "\n",
        "### SW[1:0] = 2'b00\n",
        "![SW00](https://github.com/pe8sutd/Colab_DSL_Practice25/blob/main/figure/T01_sw00.jpg?raw=1)\n",
        "\n",
        "### SW[1:0] = 2'b01\n",
        "![SW01](https://github.com/pe8sutd/Colab_DSL_Practice25/blob/main/figure/T01_sw01.jpg?raw=1)\n",
        "\n",
        "### SW[1:0] = 2'b10\n",
        "![SW10](https://github.com/pe8sutd/Colab_DSL_Practice25/blob/main/figure/T01_sw10.jpg?raw=1)\n",
        "\n",
        "### SW[1:0] = 2'b11\n",
        "![SW11](https://github.com/pe8sutd/Colab_DSL_Practice25/blob/main/figure/T01_sw11.jpg?raw=1)"
      ],
      "metadata": {
        "id": "zNCb9Nu2zicX"
      }
    }
  ],
  "metadata": {
    "colab": {
      "provenance": [],
      "include_colab_link": true
    },
    "language_info": {
      "name": "python"
    }
  },
  "nbformat": 4,
  "nbformat_minor": 0
}