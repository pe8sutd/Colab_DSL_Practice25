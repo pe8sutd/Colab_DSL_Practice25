{
  "cells": [
    {
      "cell_type": "markdown",
      "metadata": {
        "id": "view-in-github",
        "colab_type": "text"
      },
      "source": [
        "<a href=\"https://colab.research.google.com/github/pe8sutd/Colab_DSL_Practice25/blob/main/Simulation/simT02_Basys3_StopWatch_SSD.ipynb\" target=\"_parent\"><img src=\"https://colab.research.google.com/assets/colab-badge.svg\" alt=\"Open In Colab\"/></a>"
      ]
    },
    {
      "cell_type": "code",
      "execution_count": 4,
      "metadata": {
        "id": "lu_dcXspNbUE",
        "colab": {
          "base_uri": "https://localhost:8080/"
        },
        "outputId": "a2c1fe4f-99cf-4262-df77-3941380949b1"
      },
      "outputs": [
        {
          "output_type": "stream",
          "name": "stdout",
          "text": [
            "[INFO]: Init the Verilog ENV\n",
            "The plugin extension is already loaded. To reload it, use:\n",
            "  %reload_ext plugin\n"
          ]
        }
      ],
      "source": [
        "print(\"[INFO]: Init the Verilog ENV\")\n",
        "!pip install git+https://github.com/pe8sutd/eda4u &> /dev/null\n",
        "!git clone https://github.com/pe8sutd/eda4u &> /dev/null\n",
        "%load_ext plugin"
      ]
    },
    {
      "cell_type": "markdown",
      "metadata": {
        "id": "BB7ehGW4N8iA"
      },
      "source": [
        "# Verilog HDL Block - SSD (Seven Segment Display)"
      ]
    },
    {
      "cell_type": "markdown",
      "metadata": {
        "id": "vmMwh9qzrYPI"
      },
      "source": [
        "## Seven Segment Display (SSD) for Basys-3"
      ]
    },
    {
      "cell_type": "markdown",
      "metadata": {
        "id": "xrz5EnqIe9dU"
      },
      "source": [
        "![Basys 3 Board Feature](https://digilent.com/reference/_media/basys3_hardware_walkaround.png)\n",
        "\n",
        "Figure: Basys-3 board features."
      ]
    },
    {
      "cell_type": "markdown",
      "metadata": {
        "id": "ZiqNbGY0e-DE"
      },
      "source": [
        "![7 Segment Display](https://digilent.com/reference/_media/basys3-_seven_segment_display_driving.png?w=600&tok=0639f2)\n",
        "\n",
        "Figure: 7-segment display LEDs configuration."
      ]
    },
    {
      "cell_type": "markdown",
      "metadata": {
        "id": "Y9VM__8dfGq0"
      },
      "source": [
        "![7-segment LED display for decimal number from 0 to 9](https://digilent.com/reference/_media/basys3-_seven_segment_display.png?w=600&tok=b48b86)\n",
        "\n",
        "Figure: 7-segment LED display for decimal number from 0 to 9."
      ]
    },
    {
      "cell_type": "markdown",
      "metadata": {
        "id": "vw04PZnifG_j"
      },
      "source": [
        "![7 Segment Display on the Basys3](https://digilent.com/reference/_media/basys3-_basic_io_block_diagram.png?w=600&tok=2661a2)\n",
        "\n",
        "Figure: Basys-3 pins configuration.\n"
      ]
    },
    {
      "cell_type": "markdown",
      "source": [
        "<img src=\"https://github.com/pe8sutd/Colab_DSL_Practice25/blob/main/Simulation/img/SSDcircuit.svg?raw=1\" width=\"250\">\n",
        "\n",
        "Figure: 7-segment display connectivity.\n",
        "\n",
        "On Basys3 board, there are four Seven Segment Display (SSD), which are L3,L2,L1,L0. These four SSD shares the same CA to DP (W7 to V7). These SSD can be turned on through W4 to U2.\n",
        "\n",
        "For example, to display a number '1' in L0:\n",
        "U2 is set to LOW, as a PNP transistor (AN0) is used, a LOW at the Base of AN0 will turn on this transistor. All the LEDs in the 7-segment Display have a common Anode, and now the Anode is connected to 3.3 V.  To display '1', {CA,CB,CC,CD,CE,CF,CG,DP} = 8'b1001_1111. As CB=0, CC=0, the current can flow from 3.3 V to LOW potential (0 V).  The number display setup is listed in Table-1 below.\n"
      ],
      "metadata": {
        "id": "kAx4QSORvp0c"
      }
    },
    {
      "cell_type": "markdown",
      "metadata": {
        "id": "AmpK01sfgrJk"
      },
      "source": [
        "Table-1: Truth Table for Common Anode type BCD to Seven Segment Decoder, including DP\n",
        "\n",
        "| x | x | x  | x  | x  | x  | x | x  |    | x  | x  | x  | x  | x  | x  | x | x      | CA to DP    | CA to DP | x | DP to CA    | DP to CA | x |\n",
        "|:---:|:---:|:---:|:---:|:---:|:---:|:---:|:---:|:---:|:---:|:---:|:---:|:---:|:---:|:---:|:---:|:------:|:-----------:|:--------:|:---:|:-----------:|:--------:|:---:|\n",
        "|   |   |    |    |    |    |   |    |    |    |    |    |    |    |    |   |        |             |          |   |             |          |   |\n",
        "| d |   | d3 | d2 | d1 | d0 |   | CA | CB | CC | CD | CE | CF | CG | DP |   | Common | Cathode     | Cathode  |   | Cathode     | Cathode  | d |\n",
        "|   |   |    |    |    |    |   |    |    |    |    |    |    |    |    |   | Anode  | [7:0]       | [7:0]    |   | [7:0]       | [7:0]    |   |\n",
        "| 0 |   | 0  | 0  | 0  | 0  |   | 0  | 0  | 0  | 0  | 0  | 0  | 1  | 1  |   | 1’b1   | 8’b00000011 | 8'h03    |   | 8’b11000000 | 8'hC0    | 0 |\n",
        "|   |   |    |    |    |    |   |    |    |    |    |    |    |    |    |   |        |             |          |   |             |          |   |\n",
        "| 1 |   | 0  | 0  | 0  | 1  |   | 1  | 0  | 0  | 1  | 1  | 1  | 1  | 1  |   | 1’b1   | 8’b10011111 | 8'h9F    |   | 8’b11111001 | 8'hF9    | 1 |\n",
        "|   |   |    |    |    |    |   |    |    |    |    |    |    |    |    |   |        |             |          |   |             |          |   |\n",
        "| 2 |   | 0  | 0  | 1  | 0  |   | 0  | 0  | 1  | 0  | 0  | 1  | 0  | 1  |   | 1’b1   | 8’b00100101 | 8'h25    |   | 8’b10100100 | 8'hA4    | 2 |\n",
        "|   |   |    |    |    |    |   |    |    |    |    |    |    |    |    |   |        |             |          |   |             |          |   |\n",
        "| 3 |   | 0  | 0  | 1  | 1  |   | 0  | 0  | 0  | 0  | 1  | 1  | 0  | 1  |   | 1’b1   | 8’b00001101 | 8'h0D    |   | 8’b10110000 | 8'hB0    | 3 |\n",
        "|   |   |    |    |    |    |   |    |    |    |    |    |    |    |    |   |        |             |          |   |             |          |   |\n",
        "| 4 |   | 0  | 1  | 0  | 0  |   | 1  | 0  | 0  | 1  | 1  | 0  | 0  | 1  |   | 1’b1   | 8’b10011001 | 8'h99    |   | 8’b10011001 | 8'h99    | 4 |\n",
        "|   |   |    |    |    |    |   |    |    |    |    |    |    |    |    |   |        |             |          |   |             |          |   |\n",
        "| 5 |   | 0  | 1  | 0  | 1  |   | 0  | 1  | 0  | 0  | 1  | 0  | 0  | 1  |   | 1’b1   | 8’b01001001 | 8'h49    |   | 8’b10010010 | 8'h92    | 5 |\n",
        "|   |   |    |    |    |    |   |    |    |    |    |    |    |    |    |   |        |             |          |   |             |          |   |\n",
        "| 6 |   | 0  | 1  | 1  | 0  |   | 0  | 1  | 0  | 0  | 0  | 0  | 0  | 1  |   | 1’b1   | 8’b01000001 | 8'h41    |   | 8’b10000010 | 8'h82    | 6 |\n",
        "|   |   |    |    |    |    |   |    |    |    |    |    |    |    |    |   |        |             |          |   |             |          |   |\n",
        "| 7 |   | 0  | 1  | 1  | 1  |   | 0  | 0  | 0  | 1  | 1  | 1  | 1  | 1  |   | 1’b1   | 8’b00011111 | 8'h1F    |   | 8’b11111000 | 8'hF8    | 7 |\n",
        "|   |   |    |    |    |    |   |    |    |    |    |    |    |    |    |   |        |             |          |   |             |          |   |\n",
        "| 8 |   | 1  | 0  | 0  | 0  |   | 0  | 0  | 0  | 0  | 0  | 0  | 0  | 1  |   | 1’b1   | 8’b00000001 | 8'h01    |   | 8’b10000000 | 8'h80    | 8 |\n",
        "|   |   |    |    |    |    |   |    |    |    |    |    |    |    |    |   |        |             |          |   |             |          |   |\n",
        "| 9 |   | 1  | 0  | 0  | 1  |   | 0  | 0  | 0  | 0  | 1  | 0  | 0  | 1  |   | 1’b1   | 8’b00001001 | 8'h09    |   | 8’b10010000 | 8'h09    | 9 |\n",
        "\n",
        "\n",
        "\n"
      ]
    },
    {
      "cell_type": "markdown",
      "metadata": {
        "id": "shxev8YRheYc"
      },
      "source": [
        "## Look-up Table using \"case\" statement"
      ]
    },
    {
      "cell_type": "markdown",
      "metadata": {
        "id": "Z6O9FPhzrPII"
      },
      "source": [
        "Using case statement, the Verilog code for this module can be implemented by directly mapping the Truth Table to the case statement. Take note to include a default statement."
      ]
    },
    {
      "cell_type": "markdown",
      "metadata": {
        "id": "goGzViNFeG02"
      },
      "source": [
        "\n",
        "```\n",
        "//Decode BCD NUM into corrosponding 7Segment Code; dp to ca\n",
        "//in binary\n",
        "always @(cur_num_r) begin\n",
        "    case(cur_num_r)\n",
        "        4'b0000:segment_r <= 8'b11000000;    //NUM \"0\"\n",
        "        4'b0001:segment_r <= 8'b11111001;    //NUM \"1\"\n",
        "        4'b0010:segment_r <= 8'b10100100;    //NUM \"2\"\n",
        "        4'b0011:segment_r <= 8'b10110000;    //NUM \"3\"\n",
        "        4'b0100:segment_r <= 8'b10011001;    //NUM \"4\"\n",
        "        4'b0101:segment_r <= 8'b10010010;    //NUM \"5\"\n",
        "        4'b0110:segment_r <= 8'b10000010;    //NUM \"6\"\n",
        "        4'b0111:segment_r <= 8'h11111000;    //NUM \"7\"\n",
        "        4'b1000:segment_r <= 8'h10000000;    //NUM \"8\"\n",
        "        4'b1001:segment_r <= 8'h10010000;    //NUM \"9\"\n",
        "        default: segment_r <= 8'hff;\n",
        "    endcase\n",
        "end\n",
        "```\n",
        "\n",
        "The binary number is more often represented in hex.\n",
        "\n",
        "```\n",
        "//Decode BCD NUM into corrosponding 7Segment Code; dp to ca\n",
        "//in hex\n",
        "always @(cur_num_r)\n",
        "begin\n",
        "    case(cur_num_r)\n",
        "        4'd0:segment_r <= 8'hc0;    //NUM \"0\"\n",
        "        4'd1:segment_r <= 8'hf9;    //NUM \"1\"\n",
        "        4'd2:segment_r <= 8'ha4;    //NUM \"2\"\n",
        "        4'd3:segment_r <= 8'hb0;    //NUM \"3\"\n",
        "        4'd4:segment_r <= 8'h99;    //NUM \"4\"\n",
        "        4'd5:segment_r <= 8'h92;    //NUM \"5\"\n",
        "        4'd6:segment_r <= 8'h82;    //NUM \"6\"\n",
        "        4'd7:segment_r <= 8'hF8;    //NUM \"7\"\n",
        "        4'd8:segment_r <= 8'h80;    //NUM \"8\"\n",
        "        4'd9:segment_r <= 8'h90;    //NUM \"9\"\n",
        "        default: segment_r <= 8'hff;\n",
        "    endcase\n",
        "end\n",
        "```\n"
      ]
    },
    {
      "cell_type": "markdown",
      "metadata": {
        "id": "hso2fTBIrvIg"
      },
      "source": [
        "The above core can be part of the module below."
      ]
    },
    {
      "cell_type": "code",
      "execution_count": null,
      "metadata": {
        "collapsed": true,
        "id": "FMBzQsBZsINZ"
      },
      "outputs": [],
      "source": [
        "%%print_verilog\n",
        "\n",
        "//\n",
        "module b7a(segment_r,cur_num_r);\n",
        " output [7:0] segment_r;\n",
        " input [3:0] cur_num_r;\n",
        "\n",
        "reg [7:0] segment_r;        //Register - Drive 7 Segment\n",
        "\n",
        "//Decode BCD NUM into corrosponding 7Segment Code; dp to ca\n",
        "//in binary\n",
        "always @(cur_num_r)\n",
        "begin\n",
        "    case(cur_num_r)\n",
        "        4'b0000:segment_r <= 8'b11000000;    //NUM \"0\"\n",
        "        4'b0001:segment_r <= 8'b11111001;    //NUM \"1\"\n",
        "        4'b0010:segment_r <= 8'b10100100;    //NUM \"2\"\n",
        "        4'b0011:segment_r <= 8'b10110000;    //NUM \"3\"\n",
        "        4'b0100:segment_r <= 8'b10011001;    //NUM \"4\"\n",
        "        4'b0101:segment_r <= 8'b10010010;    //NUM \"5\"\n",
        "        4'b0110:segment_r <= 8'b10000010;    //NUM \"6\"\n",
        "        4'b0111:segment_r <= 8'b11111000;    //NUM \"7\"\n",
        "        4'b1000:segment_r <= 8'b10000000;    //NUM \"8\"\n",
        "        4'b1001:segment_r <= 8'b10010000;    //NUM \"9\"\n",
        "        default:segment_r <= 8'hff;\n",
        "    endcase\n",
        "end\n",
        "\n",
        "endmodule"
      ]
    },
    {
      "cell_type": "code",
      "execution_count": 6,
      "metadata": {
        "id": "mj-ujkGmrwN4",
        "colab": {
          "base_uri": "https://localhost:8080/"
        },
        "outputId": "da804510-60f6-4cd2-c991-e5155ce1d59d"
      },
      "outputs": [
        {
          "output_type": "stream",
          "name": "stdout",
          "text": [
            "VCD info: dumpfile b7a.vcd opened for output.\n",
            "\n"
          ]
        }
      ],
      "source": [
        "%%verilog\n",
        "\n",
        "//\n",
        "module b7a(segment_r,cur_num_r);\n",
        " output [7:0] segment_r;\n",
        " input [3:0] cur_num_r;\n",
        "\n",
        "reg [7:0] segment_r;        //Register - Drive 7 Segment\n",
        "\n",
        "//Decode BCD NUM into corrosponding 7Segment Code; dp to ca\n",
        "//in binary\n",
        "always @(cur_num_r)\n",
        "begin\n",
        "    case(cur_num_r)\n",
        "        4'b0000:segment_r <= 8'b11000000;    //NUM \"0\"\n",
        "        4'b0001:segment_r <= 8'b11111001;    //NUM \"1\"\n",
        "        4'b0010:segment_r <= 8'b10100100;    //NUM \"2\"\n",
        "        4'b0011:segment_r <= 8'b10110000;    //NUM \"3\"\n",
        "        4'b0100:segment_r <= 8'b10011001;    //NUM \"4\"\n",
        "        4'b0101:segment_r <= 8'b10010010;    //NUM \"5\"\n",
        "        4'b0110:segment_r <= 8'b10000010;    //NUM \"6\"\n",
        "        4'b0111:segment_r <= 8'b11111000;    //NUM \"7\"\n",
        "        4'b1000:segment_r <= 8'b10000000;    //NUM \"8\"\n",
        "        4'b1001:segment_r <= 8'b10010000;    //NUM \"9\"\n",
        "        default:segment_r <= 8'hff;\n",
        "    endcase\n",
        "end\n",
        "\n",
        "endmodule\n",
        "////\n",
        "\n",
        "//\n",
        "module b7a_tb;\n",
        " wire [7:0] segment_r;\n",
        " reg [3:0] cur_num_r;\n",
        "\n",
        "b7a b7a1(segment_r,cur_num_r);\n",
        "\n",
        "initial begin\n",
        "    $dumpfile(\"b7a.vcd\");\n",
        "    $dumpvars(0,b7a_tb);\n",
        "\n",
        "    cur_num_r=4'd0;\n",
        "    #1 cur_num_r=4'd1;\n",
        "    #1 cur_num_r=4'd2;\n",
        "    #1 cur_num_r=4'd3;\n",
        "    #1 cur_num_r=4'd4;\n",
        "    #1 cur_num_r=4'd5;\n",
        "    #1 cur_num_r=4'd6;\n",
        "    #1 cur_num_r=4'd7;\n",
        "    #1 cur_num_r=4'd8;\n",
        "    #1 cur_num_r=4'd9;\n",
        "    #1 cur_num_r=4'd10;\n",
        "    #1 cur_num_r=4'd11;\n",
        "    #1 $finish;\n",
        "\n",
        "    $dumpoff;\n",
        "end\n",
        "\n",
        "endmodule\n",
        "\n",
        "////"
      ]
    },
    {
      "cell_type": "code",
      "execution_count": 7,
      "metadata": {
        "id": "grHLEhKvsNtP",
        "colab": {
          "base_uri": "https://localhost:8080/",
          "height": 211
        },
        "outputId": "4c85c40a-1113-470b-bf61-d92c47c58d1e"
      },
      "outputs": [
        {
          "output_type": "display_data",
          "data": {
            "text/plain": [
              "<Figure size 1200x300 with 1 Axes>"
            ],
            "image/png": "[encoded data removed]"
          },
          "metadata": {}
        }
      ],
      "source": [
        "%%waveform b7a.vcd\n",
        "sign_list = ['b7a_tb.b7a1.segment_r','b7a_tb.cur_num_r']\n",
        "time_begin = 0\n",
        "time_end = 11\n",
        "base = 'hex' # bin, dec, dec2, hex, octal"
      ]
    },
    {
      "cell_type": "markdown",
      "metadata": {
        "id": "ozq9VdBovB4g"
      },
      "source": [
        "Sometimes, the 7-Segment (CA to CG) and dp are not in the same case statement."
      ]
    },
    {
      "cell_type": "markdown",
      "metadata": {
        "id": "4MXVMHjpvBsp"
      },
      "source": [
        "Table 2: Truth Table for Common Anode type BCD to Seven Segment Decoder, not including DP\n",
        "\n",
        "| d |   | b3 | b2 | b1 | b0 |   | CA | CB | CC | CD | CE | CF | CG |   | Common | Cathode    | Cathode |   | Cathode    | Cathode |   |\n",
        "|:---:|:---:|:---:|:---:|:---:|:---:|:---:|:---:|:---:|:---:|:---:|:---:|:---:|:---:|:---:|:------:|:----------:|:-------:|:---:|:----------:|:-------:|:---:|\n",
        "|   |   |    |    |    |    |   |    |    |    |    |    |    |    |   | Anode  | [6:0]      | [6:0]   |   | [6:0]      | [6:0]   |   |\n",
        "| 0 |   | 0  | 0  | 0  | 0  |   | 0  | 0  | 0  | 0  | 0  | 0  | 1  |   | 1’b1   | 7’b0000001 | 7'h01   |   | 7’b1000000 | 7'h40   | 0 |\n",
        "|   |   |    |    |    |    |   |    |    |    |    |    |    |    |   |        |            |         |   |            |         |   |\n",
        "| 1 |   | 0  | 0  | 0  | 1  |   | 1  | 0  | 0  | 1  | 1  | 1  | 1  |   | 1’b1   | 7’b1001111 | 7'h4F   |   | 7’b1111001 | 7'h79   | 1 |\n",
        "|   |   |    |    |    |    |   |    |    |    |    |    |    |    |   |        |            |         |   |            |         |   |\n",
        "| 2 |   | 0  | 0  | 1  | 0  |   | 0  | 0  | 1  | 0  | 0  | 1  | 0  |   | 1’b1   | 7’b0010010 | 7'h12   |   | 7’b0100100 | 7'h24   | 2 |\n",
        "|   |   |    |    |    |    |   |    |    |    |    |    |    |    |   |        |            |         |   |            |         |   |\n",
        "| 3 |   | 0  | 0  | 1  | 1  |   | 0  | 0  | 0  | 0  | 1  | 1  | 0  |   | 1’b1   | 7’b0000110 | 7'h06   |   | 7’b0110000 | 7'h30   | 3 |\n",
        "|   |   |    |    |    |    |   |    |    |    |    |    |    |    |   |        |            |         |   |            |         |   |\n",
        "| 4 |   | 0  | 1  | 0  | 0  |   | 1  | 0  | 0  | 1  | 1  | 0  | 0  |   | 1’b1   | 7’b1001100 | 7'h4C   |   | 7’b0011001 | 7'h19   | 4 |\n",
        "|   |   |    |    |    |    |   |    |    |    |    |    |    |    |   |        |            |         |   |            |         |   |\n",
        "| 5 |   | 0  | 1  | 0  | 1  |   | 0  | 1  | 0  | 0  | 1  | 0  | 0  |   | 1’b1   | 7’b0100100 | 7'h24   |   | 7’b0010010 | 7'h12   | 5 |\n",
        "|   |   |    |    |    |    |   |    |    |    |    |    |    |    |   |        |            |         |   |            |         |   |\n",
        "| 6 |   | 0  | 1  | 1  | 0  |   | 0  | 1  | 0  | 0  | 0  | 0  | 0  |   | 1’b1   | 7’b0100000 | 7'h20   |   | 7’b0000010 | 7'h02   | 6 |\n",
        "|   |   |    |    |    |    |   |    |    |    |    |    |    |    |   |        |            |         |   |            |         |   |\n",
        "| 7 |   | 0  | 1  | 1  | 1  |   | 0  | 0  | 0  | 1  | 1  | 1  | 1  |   | 1’b1   | 7’b0001111 | 7'h0F   |   | 7’b1111000 | 7'h78   | 7 |\n",
        "|   |   |    |    |    |    |   |    |    |    |    |    |    |    |   |        |            |         |   |            |         |   |\n",
        "| 8 |   | 1  | 0  | 0  | 0  |   | 0  | 0  | 0  | 0  | 0  | 0  | 0  |   | 1’b1   | 7’b0000000 | 7'h00   |   | 7’b0000000 | 7'h00   | 8 |\n",
        "|   |   |    |    |    |    |   |    |    |    |    |    |    |    |   |        |            |         |   |            |         |   |\n",
        "| 9 |   | 1  | 0  | 0  | 1  |   | 0  | 0  | 0  | 0  | 1  | 0  | 0  |   | 1’b1   | 7’b0000100 | 7'h04   |   | 7’b0010000 | 7'h10   | 9 |\n"
      ]
    },
    {
      "cell_type": "markdown",
      "metadata": {
        "id": "hBHXCUaRxOCR"
      },
      "source": [
        "## 4 SSD"
      ]
    },
    {
      "cell_type": "markdown",
      "metadata": {
        "id": "BRJxHccaxLvh"
      },
      "source": [
        "Basys3 board has four 7-segment displays (L3, L2, L1, L0), that can be turned on through AN[3:0].\n",
        "\n",
        "<img src=\"https://github.com/pe8sutd/Colab_DSL_Practice25/blob/main/Simulation/img/SSDcircuit.svg?raw=1\" width=\"250\">\n",
        "\n",
        "Figure: 7-segment display connectivity."
      ]
    },
    {
      "cell_type": "markdown",
      "metadata": {
        "id": "Idb9rbtNFRXn"
      },
      "source": [
        "## Time multiplexing"
      ]
    },
    {
      "cell_type": "markdown",
      "metadata": {
        "id": "ommX-F-my5na"
      },
      "source": [
        "The cathodes (CA ... DP) of four seven-segment LEDs (L3,L2,L1,L0) on Basys 3 are connected together as shown in (Figure: 7-segment display connectivity). The reason is the FPGA chip has limited pin out, or it is a way of saving pin count.\n",
        "Thus, to display 4 different numbers on the 4-digit seven-segment LED display, the cathodes (CA-CG) of the four seven-segment LEDs have to be controlled separately by activating the four seven-segment LEDs at different times (Time Multiplexing).\n",
        "For example, when L1 is activated by driving AN1 high (U4 = LOW) and the other three LEDs (L0, L2, L3) are deactivated (AN0, AN2, and AN3 not driven).\n",
        "The cathode pattern (CA-CG) will be used for displaying numbers on L1.\n",
        "Similarly, L0 to L3 can be displayed by using the same way at different times.\n",
        "\n",
        "As shwon in (Figure: 7-segment display connectivity), four seven-segment LEDs can be activated by using 4 PNP transistors AN0-AN3. When a transistor is on or the Base terminal (W4, U4, V4, or U2) is low, the corresponding anode is driven high (3.3 V) to activate or enable the corresponding seven-segment LED.\n",
        "When a LED is deactivated after illuminating, it will darken. To avoid the displaying discontinuity perceived by the human eye, the four seven-segment LEDs should be continuously refreshed at 60 Hz or above (but not too high, usually at 1 kHz), e.g. it should be refreshed at every 1 ms to 16 ms (60 Hz) to 1 ms (1 kHz).\n"
      ]
    },
    {
      "cell_type": "code",
      "execution_count": 8,
      "metadata": {
        "colab": {
          "base_uri": "https://localhost:8080/"
        },
        "id": "FOxQ1hXWJDeg",
        "outputId": "556a8fad-eb1e-416f-c609-f5801b3e017b"
      },
      "outputs": [
        {
          "output_type": "stream",
          "name": "stdout",
          "text": [
            "For 60 Hz, t =  16.666666666666668 ms\n",
            "For 1 kHz, t =  1.0 ms\n"
          ]
        }
      ],
      "source": [
        "\n",
        "print(\"For 60 Hz, t = \", 1/60*1000, \"ms\")\n",
        "print(\"For 1 kHz, t = \", 1/1000*1000, \"ms\")\n"
      ]
    },
    {
      "cell_type": "markdown",
      "metadata": {
        "id": "fCgK9gZmKheY"
      },
      "source": [
        "Verilog that related to SSD, extracted from Stopwatch code.\n",
        "\n",
        "The multiplexing frequency is 500 Hz (60 Hz to 1 kHz), almost 10 times of 50 Hz / 60 Hz, which is fast enough for eyes to detect the multiplexing sequence. The sequence rotates at:\n",
        "\n",
        "```\n",
        "DIG3 -> DIG2 -> DIG1 -> DIG4 -> DIG3\n",
        " ^                               |\n",
        " |_______________________________v\n",
        "```\n",
        "\n",
        "\n",
        "```\n",
        "case(an_r)\n",
        "        4'b0001: an_r <= 4'b0010;   //DISPLAY ON DIG3\n",
        "        4'b0010: an_r <= 4'b0100;   //DISPLAY ON DIG2\n",
        "        4'b0100: an_r <= 4'b1000;   //DISPLAY ON DIG1\n",
        "        4'b1000: an_r <= 4'b0001;   //DISPLAY ON DIG4\n",
        "        default: an_r <= 4'b0001;   //DISPLAY ON DIG4\n",
        "endcase\n",
        "```\n",
        "\n",
        "The multiplexing is achieved through \"case\" statement in synchronous \"always\" block that is triggered at 500 Hz clock positive edge.\n",
        "```\n",
        "always @(negedge rstn or posedge clk_500hz)\n",
        "```\n"
      ]
    },
    {
      "cell_type": "markdown",
      "metadata": {
        "id": "UgigNd6zVzGj"
      },
      "source": [
        "Please run the following simulation to view the wave of 7-segment driver."
      ]
    },
    {
      "cell_type": "code",
      "execution_count": 14,
      "metadata": {
        "colab": {
          "base_uri": "https://localhost:8080/"
        },
        "id": "mLUuNN6syoDz",
        "outputId": "cedd985d-27cc-4c5d-a8fb-e58cc6dec218"
      },
      "outputs": [
        {
          "output_type": "stream",
          "name": "stdout",
          "text": [
            "VCD info: dumpfile tb.vcd opened for output.\n",
            "Time=1 ANODE=1111 SEG=11000000 NUM3=1 NUM2=2 NUM1=3 NUM0=4\n",
            "Time=3 ANODE=1111 SEG=11000000 NUM3=1 NUM2=2 NUM1=3 NUM0=4\n",
            "Time=5 ANODE=1110 SEG=10011001 NUM3=1 NUM2=2 NUM1=3 NUM0=4\n",
            "Time=7 ANODE=1101 SEG=10110000 NUM3=1 NUM2=2 NUM1=3 NUM0=4\n",
            "Time=9 ANODE=1011 SEG=10100100 NUM3=1 NUM2=2 NUM1=3 NUM0=4\n",
            "Time=11 ANODE=0111 SEG=11111001 NUM3=1 NUM2=2 NUM1=3 NUM0=4\n",
            "Time=13 ANODE=1110 SEG=10011001 NUM3=5 NUM2=6 NUM1=7 NUM0=8\n",
            "Time=15 ANODE=1101 SEG=11111000 NUM3=5 NUM2=6 NUM1=7 NUM0=8\n",
            "Time=17 ANODE=1011 SEG=10000010 NUM3=5 NUM2=6 NUM1=7 NUM0=8\n",
            "Time=19 ANODE=0111 SEG=10010010 NUM3=5 NUM2=6 NUM1=7 NUM0=8\n",
            "Time=21 ANODE=1110 SEG=10000000 NUM3=5 NUM2=6 NUM1=7 NUM0=8\n",
            "Time=23 ANODE=1101 SEG=11111000 NUM3=f NUM2=e NUM1=d NUM0=c\n",
            "Time=25 ANODE=1011 SEG=11111111 NUM3=f NUM2=e NUM1=d NUM0=c\n",
            "Time=27 ANODE=0111 SEG=11111111 NUM3=f NUM2=e NUM1=d NUM0=c\n",
            "Time=29 ANODE=1110 SEG=11111111 NUM3=f NUM2=e NUM1=d NUM0=c\n",
            "Time=31 ANODE=1101 SEG=11111111 NUM3=f NUM2=e NUM1=d NUM0=c\n",
            "Time=33 ANODE=1011 SEG=11111111 NUM3=f NUM2=e NUM1=d NUM0=c\n",
            "Time=35 ANODE=0111 SEG=11111111 NUM3=f NUM2=e NUM1=d NUM0=c\n",
            "\n"
          ]
        }
      ],
      "source": [
        "%%verilog\n",
        "module drv_7segment(\n",
        "    input           rstn_i,\n",
        "    input           clk_500hz,\n",
        "    input   [3:0]   num3_i,\n",
        "    input   [3:0]   num2_i,\n",
        "    input   [3:0]   num1_i,\n",
        "    input   [3:0]   num0_i,\n",
        "    output  [3:0]   an_o,\n",
        "    output  [7:0]   seg_o\n",
        ");\n",
        "\n",
        "reg [7:0] segment_r;\n",
        "reg [3:0] cur_num_r;\n",
        "reg [3:0] an_r;\n",
        "\n",
        "assign an_o = ~an_r;       // Common anode inversion\n",
        "assign seg_o = segment_r;  // Direct segment output\n",
        "\n",
        "// Anode rotation logic\n",
        "always @(negedge rstn_i, posedge clk_500hz) begin\n",
        "    if (!rstn_i) an_r <= 4'b0000;\n",
        "    else case (an_r)\n",
        "        4'b0001: an_r <= 4'b0010;  // DIG3\n",
        "        4'b0010: an_r <= 4'b0100;  // DIG2\n",
        "        4'b0100: an_r <= 4'b1000;  // DIG1\n",
        "        default: an_r <= 4'b0001;  // DIG4 (including reset state)\n",
        "    endcase\n",
        "end\n",
        "\n",
        "// Direct input digit selection\n",
        "always @(*) begin\n",
        "    case (an_r)\n",
        "        4'b0001: cur_num_r = num0_i;  // DIG4 (LSB)\n",
        "        4'b0010: cur_num_r = num1_i;  // DIG3\n",
        "        4'b0100: cur_num_r = num2_i;  // DIG2\n",
        "        4'b1000: cur_num_r = num3_i;  // DIG1 (MSB)\n",
        "        default: cur_num_r = 4'b0;    // All off\n",
        "    endcase\n",
        "end\n",
        "\n",
        "// 7-segment decoder\n",
        "always @(*) begin\n",
        "    case (cur_num_r)\n",
        "        4'h0: segment_r = 8'hC0;  // 0\n",
        "        4'h1: segment_r = 8'hF9;  // 1\n",
        "        4'h2: segment_r = 8'hA4;  // 2\n",
        "        4'h3: segment_r = 8'hB0;  // 3\n",
        "        4'h4: segment_r = 8'h99;  // 4\n",
        "        4'h5: segment_r = 8'h92;  // 5\n",
        "        4'h6: segment_r = 8'h82;  // 6\n",
        "        4'h7: segment_r = 8'hF8;  // 7\n",
        "        4'h8: segment_r = 8'h80;  // 8\n",
        "        4'h9: segment_r = 8'h90;  // 9\n",
        "        default: segment_r = 8'hFF; // Off\n",
        "    endcase\n",
        "end\n",
        "\n",
        "endmodule\n",
        "\n",
        "\n",
        "//module tb_drv_7segment();\n",
        "module tb();\n",
        "\n",
        "// Testbench signals\n",
        "reg dut_rstn;\n",
        "reg dut_clk_500hz;\n",
        "reg [3:0] dut_num3_i;\n",
        "reg [3:0] dut_num2_i;\n",
        "reg [3:0] dut_num1_i;\n",
        "reg [3:0] dut_num0_i;\n",
        "wire [3:0] dut_an_o;\n",
        "wire [7:0] dut_seg_o;\n",
        "\n",
        "// Instantiate DUT\n",
        "drv_7segment dut (\n",
        "    .rstn_i(dut_rstn),\n",
        "    .clk_500hz(dut_clk_500hz),\n",
        "    .num3_i(dut_num3_i),\n",
        "    .num2_i(dut_num2_i),\n",
        "    .num1_i(dut_num1_i),\n",
        "    .num0_i(dut_num0_i),\n",
        "    .an_o(dut_an_o),\n",
        "    .seg_o(dut_seg_o)\n",
        ");\n",
        "\n",
        "// Clock generation (500Hz -> 2ms period)\n",
        "always begin\n",
        "    #1 dut_clk_500hz = ~dut_clk_500hz;\n",
        "end\n",
        "\n",
        "initial begin\n",
        "    // Initialize waveform dumping\n",
        "    //$dumpfile(\"tb_drv_7segment.vcd\");\n",
        "    //$dumpvars(0, tb_drv_7segment);\n",
        "    $dumpfile(\"tb.vcd\");\n",
        "    $dumpvars(0, tb);\n",
        "    $dumpon;\n",
        "\n",
        "    // Initialize signals\n",
        "    dut_clk_500hz = 0;\n",
        "    dut_rstn = 0;\n",
        "    dut_num3_i = 4'h1;\n",
        "    dut_num2_i = 4'h2;\n",
        "    dut_num1_i = 4'h3;\n",
        "    dut_num0_i = 4'h4;\n",
        "\n",
        "    // Reset sequence\n",
        "    #3 dut_rstn = 1;\n",
        "\n",
        "    // Test case 1: Normal operation\n",
        "    #10;\n",
        "\n",
        "    // Test case 2: Change input values\n",
        "    dut_num3_i = 4'h5;\n",
        "    dut_num2_i = 4'h6;\n",
        "    dut_num1_i = 4'h7;\n",
        "    dut_num0_i = 4'h8;\n",
        "    #10\n",
        "\n",
        "    // Test case 3: Invalid inputs\n",
        "    dut_num3_i = 4'hF;\n",
        "    dut_num2_i = 4'hE;\n",
        "    dut_num1_i = 4'hD;\n",
        "    dut_num0_i = 4'hC;\n",
        "    #10\n",
        "    // End simulation\n",
        "    #3 $dumpoff;\n",
        "    $finish();\n",
        "end\n",
        "\n",
        "// Monitor signals\n",
        "always @(posedge dut_clk_500hz) begin\n",
        "    $display(\"Time=%0t ANODE=%4b SEG=%8b NUM3=%h NUM2=%h NUM1=%h NUM0=%h\",\n",
        "        $time, dut_an_o, dut_seg_o,\n",
        "        dut_num3_i, dut_num2_i, dut_num1_i, dut_num0_i);\n",
        "end\n",
        "\n",
        "endmodule"
      ]
    },
    {
      "cell_type": "code",
      "execution_count": 16,
      "metadata": {
        "colab": {
          "base_uri": "https://localhost:8080/",
          "height": 391
        },
        "id": "ahXtkGyjyoD0",
        "outputId": "e04b9f64-d0c4-45fa-d3ee-a7d541362cf8"
      },
      "outputs": [
        {
          "output_type": "error",
          "ename": "KeyError",
          "evalue": "'dut_clk_500hz'",
          "traceback": [
            "\u001b[0;31m---------------------------------------------------------------------------\u001b[0m",
            "\u001b[0;31mKeyError\u001b[0m                                  Traceback (most recent call last)",
            "\u001b[0;32m<ipython-input-16-dcb903c37790>\u001b[0m in \u001b[0;36m<cell line: 0>\u001b[0;34m()\u001b[0m\n\u001b[0;32m----> 1\u001b[0;31m \u001b[0mget_ipython\u001b[0m\u001b[0;34m(\u001b[0m\u001b[0;34m)\u001b[0m\u001b[0;34m.\u001b[0m\u001b[0mrun_cell_magic\u001b[0m\u001b[0;34m(\u001b[0m\u001b[0;34m'waveform'\u001b[0m\u001b[0;34m,\u001b[0m \u001b[0;34m'tb.vcd'\u001b[0m\u001b[0;34m,\u001b[0m \u001b[0;34m\"sign_list = [ 'tb.dut_rstn', 'dut_clk_500hz', 'dut_num3_i', 'dut_num2_i', 'dut_num1_i', 'dut_num0_i', 'dut_an_o', 'dut_seg_o', 'dut.segment_r', 'dut.cur_num_r', 'dut.an_r']\\ntime_begin = 0\\ntime_end = 160  # Covers full simulation duration\\nbase = 'hex'    # hex format for all values\\n\"\u001b[0m\u001b[0;34m)\u001b[0m\u001b[0;34m\u001b[0m\u001b[0;34m\u001b[0m\u001b[0m\n\u001b[0m",
            "\u001b[0;32m/usr/local/lib/python3.11/dist-packages/google/colab/_shell.py\u001b[0m in \u001b[0;36mrun_cell_magic\u001b[0;34m(self, magic_name, line, cell)\u001b[0m\n\u001b[1;32m    356\u001b[0m     \u001b[0;32mif\u001b[0m \u001b[0mline\u001b[0m \u001b[0;32mand\u001b[0m \u001b[0;32mnot\u001b[0m \u001b[0mcell\u001b[0m\u001b[0;34m:\u001b[0m\u001b[0;34m\u001b[0m\u001b[0;34m\u001b[0m\u001b[0m\n\u001b[1;32m    357\u001b[0m       \u001b[0mcell\u001b[0m \u001b[0;34m=\u001b[0m \u001b[0;34m' '\u001b[0m\u001b[0;34m\u001b[0m\u001b[0;34m\u001b[0m\u001b[0m\n\u001b[0;32m--> 358\u001b[0;31m     \u001b[0;32mreturn\u001b[0m \u001b[0msuper\u001b[0m\u001b[0;34m(\u001b[0m\u001b[0;34m)\u001b[0m\u001b[0;34m.\u001b[0m\u001b[0mrun_cell_magic\u001b[0m\u001b[0;34m(\u001b[0m\u001b[0mmagic_name\u001b[0m\u001b[0;34m,\u001b[0m \u001b[0mline\u001b[0m\u001b[0;34m,\u001b[0m \u001b[0mcell\u001b[0m\u001b[0;34m)\u001b[0m\u001b[0;34m\u001b[0m\u001b[0;34m\u001b[0m\u001b[0m\n\u001b[0m\u001b[1;32m    359\u001b[0m \u001b[0;34m\u001b[0m\u001b[0m\n\u001b[1;32m    360\u001b[0m \u001b[0;34m\u001b[0m\u001b[0m\n",
            "\u001b[0;32m/usr/local/lib/python3.11/dist-packages/IPython/core/interactiveshell.py\u001b[0m in \u001b[0;36mrun_cell_magic\u001b[0;34m(self, magic_name, line, cell)\u001b[0m\n\u001b[1;32m   2471\u001b[0m             \u001b[0;32mwith\u001b[0m \u001b[0mself\u001b[0m\u001b[0;34m.\u001b[0m\u001b[0mbuiltin_trap\u001b[0m\u001b[0;34m:\u001b[0m\u001b[0;34m\u001b[0m\u001b[0;34m\u001b[0m\u001b[0m\n\u001b[1;32m   2472\u001b[0m                 \u001b[0margs\u001b[0m \u001b[0;34m=\u001b[0m \u001b[0;34m(\u001b[0m\u001b[0mmagic_arg_s\u001b[0m\u001b[0;34m,\u001b[0m \u001b[0mcell\u001b[0m\u001b[0;34m)\u001b[0m\u001b[0;34m\u001b[0m\u001b[0;34m\u001b[0m\u001b[0m\n\u001b[0;32m-> 2473\u001b[0;31m                 \u001b[0mresult\u001b[0m \u001b[0;34m=\u001b[0m \u001b[0mfn\u001b[0m\u001b[0;34m(\u001b[0m\u001b[0;34m*\u001b[0m\u001b[0margs\u001b[0m\u001b[0;34m,\u001b[0m \u001b[0;34m**\u001b[0m\u001b[0mkwargs\u001b[0m\u001b[0;34m)\u001b[0m\u001b[0;34m\u001b[0m\u001b[0;34m\u001b[0m\u001b[0m\n\u001b[0m\u001b[1;32m   2474\u001b[0m             \u001b[0;32mreturn\u001b[0m \u001b[0mresult\u001b[0m\u001b[0;34m\u001b[0m\u001b[0;34m\u001b[0m\u001b[0m\n\u001b[1;32m   2475\u001b[0m \u001b[0;34m\u001b[0m\u001b[0m\n",
            "\u001b[0;32m<decorator-gen-129>\u001b[0m in \u001b[0;36mwaveform\u001b[0;34m(self, line, cell)\u001b[0m\n",
            "\u001b[0;32m/usr/local/lib/python3.11/dist-packages/IPython/core/magic.py\u001b[0m in \u001b[0;36m<lambda>\u001b[0;34m(f, *a, **k)\u001b[0m\n\u001b[1;32m    185\u001b[0m     \u001b[0;31m# but it's overkill for just that one bit of state.\u001b[0m\u001b[0;34m\u001b[0m\u001b[0;34m\u001b[0m\u001b[0m\n\u001b[1;32m    186\u001b[0m     \u001b[0;32mdef\u001b[0m \u001b[0mmagic_deco\u001b[0m\u001b[0;34m(\u001b[0m\u001b[0marg\u001b[0m\u001b[0;34m)\u001b[0m\u001b[0;34m:\u001b[0m\u001b[0;34m\u001b[0m\u001b[0;34m\u001b[0m\u001b[0m\n\u001b[0;32m--> 187\u001b[0;31m         \u001b[0mcall\u001b[0m \u001b[0;34m=\u001b[0m \u001b[0;32mlambda\u001b[0m \u001b[0mf\u001b[0m\u001b[0;34m,\u001b[0m \u001b[0;34m*\u001b[0m\u001b[0ma\u001b[0m\u001b[0;34m,\u001b[0m \u001b[0;34m**\u001b[0m\u001b[0mk\u001b[0m\u001b[0;34m:\u001b[0m \u001b[0mf\u001b[0m\u001b[0;34m(\u001b[0m\u001b[0;34m*\u001b[0m\u001b[0ma\u001b[0m\u001b[0;34m,\u001b[0m \u001b[0;34m**\u001b[0m\u001b[0mk\u001b[0m\u001b[0;34m)\u001b[0m\u001b[0;34m\u001b[0m\u001b[0;34m\u001b[0m\u001b[0m\n\u001b[0m\u001b[1;32m    188\u001b[0m \u001b[0;34m\u001b[0m\u001b[0m\n\u001b[1;32m    189\u001b[0m         \u001b[0;32mif\u001b[0m \u001b[0mcallable\u001b[0m\u001b[0;34m(\u001b[0m\u001b[0marg\u001b[0m\u001b[0;34m)\u001b[0m\u001b[0;34m:\u001b[0m\u001b[0;34m\u001b[0m\u001b[0;34m\u001b[0m\u001b[0m\n",
            "\u001b[0;32m/content/cad4u/hdl/hdl.py\u001b[0m in \u001b[0;36mwaveform\u001b[0;34m(self, line, cell)\u001b[0m\n\u001b[1;32m    106\u001b[0m \u001b[0;34m\u001b[0m\u001b[0m\n\u001b[1;32m    107\u001b[0m         \u001b[0mvcd_plt\u001b[0m \u001b[0;34m=\u001b[0m \u001b[0mVcdPlotter\u001b[0m\u001b[0;34m(\u001b[0m\u001b[0;34m\"/content/%s\"\u001b[0m \u001b[0;34m%\u001b[0m \u001b[0mname\u001b[0m\u001b[0;34m)\u001b[0m\u001b[0;34m\u001b[0m\u001b[0;34m\u001b[0m\u001b[0m\n\u001b[0;32m--> 108\u001b[0;31m         \u001b[0mvcd_plt\u001b[0m\u001b[0;34m.\u001b[0m\u001b[0mshow\u001b[0m\u001b[0;34m(\u001b[0m\u001b[0mop_dict\u001b[0m\u001b[0;34m,\u001b[0m \u001b[0msign_list\u001b[0m\u001b[0;34m,\u001b[0m \u001b[0mtime_begin\u001b[0m\u001b[0;34m[\u001b[0m\u001b[0;36m0\u001b[0m\u001b[0;34m]\u001b[0m\u001b[0;34m,\u001b[0m \u001b[0mtime_end\u001b[0m\u001b[0;34m[\u001b[0m\u001b[0;36m0\u001b[0m\u001b[0;34m]\u001b[0m\u001b[0;34m,\u001b[0m \u001b[0mbase\u001b[0m\u001b[0;34m[\u001b[0m\u001b[0;36m0\u001b[0m\u001b[0;34m]\u001b[0m\u001b[0;34m)\u001b[0m\u001b[0;34m\u001b[0m\u001b[0;34m\u001b[0m\u001b[0m\n\u001b[0m\u001b[1;32m    109\u001b[0m \u001b[0;34m\u001b[0m\u001b[0m\n\u001b[1;32m    110\u001b[0m     \u001b[0;34m@\u001b[0m\u001b[0mcell_magic\u001b[0m\u001b[0;34m\u001b[0m\u001b[0;34m\u001b[0m\u001b[0m\n",
            "\u001b[0;32m/content/cad4u/hdl/vcd_parser/vcd_plotter.py\u001b[0m in \u001b[0;36mshow\u001b[0;34m(self, op_dict, signals_list, start_time, stop_time, base)\u001b[0m\n\u001b[1;32m     19\u001b[0m         \u001b[0mself\u001b[0m\u001b[0;34m,\u001b[0m \u001b[0mop_dict\u001b[0m\u001b[0;34m,\u001b[0m \u001b[0msignals_list\u001b[0m\u001b[0;34m:\u001b[0m \u001b[0;34m[\u001b[0m\u001b[0mstr\u001b[0m\u001b[0;34m]\u001b[0m\u001b[0;34m,\u001b[0m \u001b[0mstart_time\u001b[0m\u001b[0;34m:\u001b[0m \u001b[0mint\u001b[0m\u001b[0;34m,\u001b[0m \u001b[0mstop_time\u001b[0m\u001b[0;34m:\u001b[0m \u001b[0mint\u001b[0m\u001b[0;34m,\u001b[0m \u001b[0mbase\u001b[0m\u001b[0;34m:\u001b[0m \u001b[0mstr\u001b[0m\u001b[0;34m\u001b[0m\u001b[0;34m\u001b[0m\u001b[0m\n\u001b[1;32m     20\u001b[0m     ):\n\u001b[0;32m---> 21\u001b[0;31m         \u001b[0mself\u001b[0m\u001b[0;34m.\u001b[0m\u001b[0mplot\u001b[0m\u001b[0;34m(\u001b[0m\u001b[0mop_dict\u001b[0m\u001b[0;34m,\u001b[0m \u001b[0msignals_list\u001b[0m\u001b[0;34m,\u001b[0m \u001b[0mstart_time\u001b[0m\u001b[0;34m,\u001b[0m \u001b[0mstop_time\u001b[0m\u001b[0;34m,\u001b[0m \u001b[0mbase\u001b[0m\u001b[0;34m)\u001b[0m\u001b[0;34m\u001b[0m\u001b[0;34m\u001b[0m\u001b[0m\n\u001b[0m\u001b[1;32m     22\u001b[0m         \u001b[0mplt\u001b[0m\u001b[0;34m.\u001b[0m\u001b[0mshow\u001b[0m\u001b[0;34m(\u001b[0m\u001b[0;34m)\u001b[0m\u001b[0;34m\u001b[0m\u001b[0;34m\u001b[0m\u001b[0m\n\u001b[1;32m     23\u001b[0m \u001b[0;34m\u001b[0m\u001b[0m\n",
            "\u001b[0;32m/content/cad4u/hdl/vcd_parser/vcd_plotter.py\u001b[0m in \u001b[0;36mplot\u001b[0;34m(self, op_dict, signals_list, start_time, stop_time, base)\u001b[0m\n\u001b[1;32m     39\u001b[0m         \u001b[0;32mfor\u001b[0m \u001b[0msig\u001b[0m \u001b[0;32min\u001b[0m \u001b[0msignals_list\u001b[0m\u001b[0;34m:\u001b[0m\u001b[0;34m\u001b[0m\u001b[0;34m\u001b[0m\u001b[0m\n\u001b[1;32m     40\u001b[0m             \u001b[0ms\u001b[0m \u001b[0;34m=\u001b[0m \u001b[0msig\u001b[0m\u001b[0;34m.\u001b[0m\u001b[0msplit\u001b[0m\u001b[0;34m(\u001b[0m\u001b[0;34m\",\"\u001b[0m\u001b[0;34m)\u001b[0m\u001b[0;34m\u001b[0m\u001b[0;34m\u001b[0m\u001b[0m\n\u001b[0;32m---> 41\u001b[0;31m             \u001b[0mid\u001b[0m \u001b[0;34m=\u001b[0m \u001b[0mself\u001b[0m\u001b[0;34m.\u001b[0m\u001b[0m__signal_store\u001b[0m\u001b[0;34m.\u001b[0m\u001b[0mname_id_map\u001b[0m\u001b[0;34m[\u001b[0m\u001b[0ms\u001b[0m\u001b[0;34m[\u001b[0m\u001b[0;36m0\u001b[0m\u001b[0;34m]\u001b[0m\u001b[0;34m]\u001b[0m\u001b[0;34m\u001b[0m\u001b[0;34m\u001b[0m\u001b[0m\n\u001b[0m\u001b[1;32m     42\u001b[0m             raw = self.__signal_store.signals[id].get_values(\n\u001b[1;32m     43\u001b[0m                 \u001b[0mself\u001b[0m\u001b[0;34m.\u001b[0m\u001b[0m__signal_store\u001b[0m\u001b[0;34m.\u001b[0m\u001b[0mget_max_time_stamp\u001b[0m\u001b[0;34m(\u001b[0m\u001b[0;34m)\u001b[0m\u001b[0;34m\u001b[0m\u001b[0;34m\u001b[0m\u001b[0m\n",
            "\u001b[0;31mKeyError\u001b[0m: 'dut_clk_500hz'"
          ]
        }
      ],
      "source": [
        "%%waveform tb.vcd\n",
        "sign_list = [ 'tb.dut_rstn', 'dut_clk_500hz', 'dut_num3_i', 'dut_num2_i', 'dut_num1_i', 'dut_num0_i', 'dut_an_o', 'dut_seg_o', 'dut.segment_r', 'dut.cur_num_r', 'dut.an_r']\n",
        "time_begin = 0\n",
        "time_end = 160  # Covers full simulation duration\n",
        "base = 'hex'    # hex format for all values"
      ]
    }
  ],
  "metadata": {
    "colab": {
      "provenance": [],
      "include_colab_link": true
    },
    "kernelspec": {
      "display_name": "Python 3",
      "name": "python3"
    },
    "language_info": {
      "codemirror_mode": {
        "name": "ipython",
        "version": 3
      },
      "file_extension": ".py",
      "mimetype": "text/x-python",
      "name": "python",
      "nbconvert_exporter": "python",
      "pygments_lexer": "ipython3",
      "version": "3.10.12"
    }
  },
  "nbformat": 4,
  "nbformat_minor": 0
}