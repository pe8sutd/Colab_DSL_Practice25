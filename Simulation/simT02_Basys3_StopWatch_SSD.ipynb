{
  "cells": [
    {
      "cell_type": "markdown",
      "metadata": {
        "id": "view-in-github",
        "colab_type": "text"
      },
      "source": [
        "<a href=\"https://colab.research.google.com/github/pe8sutd/Colab_DSL_Practice25/blob/main/Simulation/simT02_Basys3_StopWatch_SSD.ipynb\" target=\"_parent\"><img src=\"https://colab.research.google.com/assets/colab-badge.svg\" alt=\"Open In Colab\"/></a>"
      ]
    },
    {
      "cell_type": "code",
      "execution_count": 1,
      "metadata": {
        "id": "lu_dcXspNbUE",
        "outputId": "d3b513f4-36d5-419e-e1e1-c325eb320cef",
        "colab": {
          "base_uri": "https://localhost:8080/",
          "height": 35
        }
      },
      "outputs": [
        {
          "output_type": "stream",
          "name": "stdout",
          "text": [
            "[INFO]: Init the Verilog ENV\n"
          ]
        }
      ],
      "source": [
        "print(\"[INFO]: Init the Verilog ENV\")\n",
        "!pip install git+https://github.com/pe8sutd/eda4u &> /dev/null\n",
        "!git clone https://github.com/pe8sutd/eda4u &> /dev/null\n",
        "%load_ext plugin"
      ]
    },
    {
      "cell_type": "markdown",
      "metadata": {
        "id": "BB7ehGW4N8iA"
      },
      "source": [
        "# Verilog HDL Block - SSD (Seven Segment Display)"
      ]
    },
    {
      "cell_type": "markdown",
      "metadata": {
        "id": "vmMwh9qzrYPI"
      },
      "source": [
        "## Seven Segment Display (SSD) for Basys-3"
      ]
    },
    {
      "cell_type": "markdown",
      "metadata": {
        "id": "xrz5EnqIe9dU"
      },
      "source": [
        "![Basys 3 Board Feature](https://digilent.com/reference/_media/basys3_hardware_walkaround.png)\n",
        "\n",
        "Basys 3 Board Feature"
      ]
    },
    {
      "cell_type": "markdown",
      "metadata": {
        "id": "ZiqNbGY0e-DE"
      },
      "source": [
        "![7 Segment Display](https://digilent.com/reference/_media/basys3-_seven_segment_display_driving.png?w=600&tok=0639f2)\n",
        "\n",
        "7 Segment Display"
      ]
    },
    {
      "cell_type": "markdown",
      "metadata": {
        "id": "Y9VM__8dfGq0"
      },
      "source": [
        "![7-segment LED display for decimal number from 0 to 9](https://digilent.com/reference/_media/basys3-_seven_segment_display.png?w=600&tok=b48b86)\n",
        "\n",
        "7-segment LED display for decimal number from 0 to 9"
      ]
    },
    {
      "cell_type": "markdown",
      "metadata": {
        "id": "vw04PZnifG_j"
      },
      "source": [
        "![7 Segment Display on the Basys3](https://digilent.com/reference/_media/basys3-_basic_io_block_diagram.png?w=600&tok=2661a2)\n",
        "\n",
        "Seven Segment Display (SSD) on the Basys3.\n",
        "\n",
        "On Basys3 board, there are four Seven Segment Display (SSD). These four SSD shares the same CA to DP (W7 to V7).\n"
      ]
    },
    {
      "cell_type": "markdown",
      "metadata": {
        "id": "AmpK01sfgrJk"
      },
      "source": [
        "Table 1: Truth Table for Common Anode type BCD to Seven Segment Decoder, including DP\n",
        "\n",
        "| x | x | x  | x  | x  | x  | x | x  |    | x  | x  | x  | x  | x  | x  | x | x      | CA to DP    | CA to DP | x | DP to CA    | DP to CA | x |\n",
        "|:---:|:---:|:---:|:---:|:---:|:---:|:---:|:---:|:---:|:---:|:---:|:---:|:---:|:---:|:---:|:---:|:------:|:-----------:|:--------:|:---:|:-----------:|:--------:|:---:|\n",
        "|   |   |    |    |    |    |   |    |    |    |    |    |    |    |    |   |        |             |          |   |             |          |   |\n",
        "| d |   | d3 | d2 | d1 | d0 |   | CA | CB | CC | CD | CE | CF | CG | DP |   | Common | Cathode     | Cathode  |   | Cathode     | Cathode  | d |\n",
        "|   |   |    |    |    |    |   |    |    |    |    |    |    |    |    |   | Anode  | [7:0]       | [7:0]    |   | [7:0]       | [7:0]    |   |\n",
        "| 0 |   | 0  | 0  | 0  | 0  |   | 0  | 0  | 0  | 0  | 0  | 0  | 1  | 1  |   | 1’b1   | 8’b00000011 | 8'h03    |   | 8’b11000000 | 8'hC0    | 0 |\n",
        "|   |   |    |    |    |    |   |    |    |    |    |    |    |    |    |   |        |             |          |   |             |          |   |\n",
        "| 1 |   | 0  | 0  | 0  | 1  |   | 1  | 0  | 0  | 1  | 1  | 1  | 1  | 1  |   | 1’b1   | 8’b10011111 | 8'h9F    |   | 8’b11111001 | 8'hF9    | 1 |\n",
        "|   |   |    |    |    |    |   |    |    |    |    |    |    |    |    |   |        |             |          |   |             |          |   |\n",
        "| 2 |   | 0  | 0  | 1  | 0  |   | 0  | 0  | 1  | 0  | 0  | 1  | 0  | 1  |   | 1’b1   | 8’b00100101 | 8'h25    |   | 8’b10100100 | 8'hA4    | 2 |\n",
        "|   |   |    |    |    |    |   |    |    |    |    |    |    |    |    |   |        |             |          |   |             |          |   |\n",
        "| 3 |   | 0  | 0  | 1  | 1  |   | 0  | 0  | 0  | 0  | 1  | 1  | 0  | 1  |   | 1’b1   | 8’b00001101 | 8'h0D    |   | 8’b10110000 | 8'hB0    | 3 |\n",
        "|   |   |    |    |    |    |   |    |    |    |    |    |    |    |    |   |        |             |          |   |             |          |   |\n",
        "| 4 |   | 0  | 1  | 0  | 0  |   | 1  | 0  | 0  | 1  | 1  | 0  | 0  | 1  |   | 1’b1   | 8’b10011001 | 8'h99    |   | 8’b10011001 | 8'h99    | 4 |\n",
        "|   |   |    |    |    |    |   |    |    |    |    |    |    |    |    |   |        |             |          |   |             |          |   |\n",
        "| 5 |   | 0  | 1  | 0  | 1  |   | 0  | 1  | 0  | 0  | 1  | 0  | 0  | 1  |   | 1’b1   | 8’b01001001 | 8'h49    |   | 8’b10010010 | 8'h92    | 5 |\n",
        "|   |   |    |    |    |    |   |    |    |    |    |    |    |    |    |   |        |             |          |   |             |          |   |\n",
        "| 6 |   | 0  | 1  | 1  | 0  |   | 0  | 1  | 0  | 0  | 0  | 0  | 0  | 1  |   | 1’b1   | 8’b01000001 | 8'h41    |   | 8’b10000010 | 8'h82    | 6 |\n",
        "|   |   |    |    |    |    |   |    |    |    |    |    |    |    |    |   |        |             |          |   |             |          |   |\n",
        "| 7 |   | 0  | 1  | 1  | 1  |   | 0  | 0  | 0  | 1  | 1  | 1  | 1  | 1  |   | 1’b1   | 8’b00011111 | 8'h1F    |   | 8’b11111000 | 8'hF8    | 7 |\n",
        "|   |   |    |    |    |    |   |    |    |    |    |    |    |    |    |   |        |             |          |   |             |          |   |\n",
        "| 8 |   | 1  | 0  | 0  | 0  |   | 0  | 0  | 0  | 0  | 0  | 0  | 0  | 1  |   | 1’b1   | 8’b00000001 | 8'h01    |   | 8’b10000000 | 8'h80    | 8 |\n",
        "|   |   |    |    |    |    |   |    |    |    |    |    |    |    |    |   |        |             |          |   |             |          |   |\n",
        "| 9 |   | 1  | 0  | 0  | 1  |   | 0  | 0  | 0  | 0  | 1  | 0  | 0  | 1  |   | 1’b1   | 8’b00001001 | 8'h09    |   | 8’b10010000 | 8'h09    | 9 |\n",
        "\n",
        "\n",
        "\n"
      ]
    },
    {
      "cell_type": "markdown",
      "metadata": {
        "id": "shxev8YRheYc"
      },
      "source": [
        "## Look-up Table using \"case\" statement"
      ]
    },
    {
      "cell_type": "markdown",
      "metadata": {
        "id": "Z6O9FPhzrPII"
      },
      "source": [
        "Using case statement, the Verilog code for this module can be implemented by directly mapping the Truth Table to the case statement. Take note to include a default statement."
      ]
    },
    {
      "cell_type": "markdown",
      "metadata": {
        "id": "goGzViNFeG02"
      },
      "source": [
        "\n",
        "```\n",
        "//Decode BCD NUM into corrosponding 7Segment Code; dp to ca\n",
        "//in binary\n",
        "always @(cur_num_r) begin\n",
        "    case(cur_num_r)\n",
        "        4'b0000:segment_r <= 8'b11000000;    //NUM \"0\"\n",
        "        4'b0001:segment_r <= 8'b11111001;    //NUM \"1\"\n",
        "        4'b0010:segment_r <= 8'b10100100;    //NUM \"2\"\n",
        "        4'b0011:segment_r <= 8'b10110000;    //NUM \"3\"\n",
        "        4'b0100:segment_r <= 8'b10011001;    //NUM \"4\"\n",
        "        4'b0101:segment_r <= 8'b10010010;    //NUM \"5\"\n",
        "        4'b0110:segment_r <= 8'b10000010;    //NUM \"6\"\n",
        "        4'b0111:segment_r <= 8'h11111000;    //NUM \"7\"\n",
        "        4'b1000:segment_r <= 8'h10000000;    //NUM \"8\"\n",
        "        4'b1001:segment_r <= 8'h10010000;    //NUM \"9\"\n",
        "        default: segment_r <= 8'hff;\n",
        "    endcase\n",
        "end\n",
        "```\n",
        "\n",
        "The binary number is more often represented in hex.\n",
        "\n",
        "```\n",
        "//Decode BCD NUM into corrosponding 7Segment Code; dp to ca\n",
        "//in hex\n",
        "always @(cur_num_r)\n",
        "begin\n",
        "    case(cur_num_r)\n",
        "        4'd0:segment_r <= 8'hc0;    //NUM \"0\"\n",
        "        4'd1:segment_r <= 8'hf9;    //NUM \"1\"\n",
        "        4'd2:segment_r <= 8'ha4;    //NUM \"2\"\n",
        "        4'd3:segment_r <= 8'hb0;    //NUM \"3\"\n",
        "        4'd4:segment_r <= 8'h99;    //NUM \"4\"\n",
        "        4'd5:segment_r <= 8'h92;    //NUM \"5\"\n",
        "        4'd6:segment_r <= 8'h82;    //NUM \"6\"\n",
        "        4'd7:segment_r <= 8'hF8;    //NUM \"7\"\n",
        "        4'd8:segment_r <= 8'h80;    //NUM \"8\"\n",
        "        4'd9:segment_r <= 8'h90;    //NUM \"9\"\n",
        "        default: segment_r <= 8'hff;\n",
        "    endcase\n",
        "end\n",
        "```\n"
      ]
    },
    {
      "cell_type": "markdown",
      "metadata": {
        "id": "hso2fTBIrvIg"
      },
      "source": [
        "The above core can be part of the module below."
      ]
    },
    {
      "cell_type": "code",
      "execution_count": null,
      "metadata": {
        "collapsed": true,
        "id": "FMBzQsBZsINZ"
      },
      "outputs": [],
      "source": [
        "%%print_verilog\n",
        "\n",
        "//\n",
        "module b7a(segment_r,cur_num_r);\n",
        " output [7:0] segment_r;\n",
        " input [3:0] cur_num_r;\n",
        "\n",
        "reg [7:0] segment_r;        //Register - Drive 7 Segment\n",
        "\n",
        "//Decode BCD NUM into corrosponding 7Segment Code; dp to ca\n",
        "//in binary\n",
        "always @(cur_num_r)\n",
        "begin\n",
        "    case(cur_num_r)\n",
        "        4'b0000:segment_r <= 8'b11000000;    //NUM \"0\"\n",
        "        4'b0001:segment_r <= 8'b11111001;    //NUM \"1\"\n",
        "        4'b0010:segment_r <= 8'b10100100;    //NUM \"2\"\n",
        "        4'b0011:segment_r <= 8'b10110000;    //NUM \"3\"\n",
        "        4'b0100:segment_r <= 8'b10011001;    //NUM \"4\"\n",
        "        4'b0101:segment_r <= 8'b10010010;    //NUM \"5\"\n",
        "        4'b0110:segment_r <= 8'b10000010;    //NUM \"6\"\n",
        "        4'b0111:segment_r <= 8'b11111000;    //NUM \"7\"\n",
        "        4'b1000:segment_r <= 8'b10000000;    //NUM \"8\"\n",
        "        4'b1001:segment_r <= 8'b10010000;    //NUM \"9\"\n",
        "        default:segment_r <= 8'hff;\n",
        "    endcase\n",
        "end\n",
        "\n",
        "endmodule"
      ]
    },
    {
      "cell_type": "code",
      "execution_count": null,
      "metadata": {
        "id": "mj-ujkGmrwN4"
      },
      "outputs": [],
      "source": [
        "%%verilog\n",
        "\n",
        "//\n",
        "module b7a(segment_r,cur_num_r);\n",
        " output [7:0] segment_r;\n",
        " input [3:0] cur_num_r;\n",
        "\n",
        "reg [7:0] segment_r;        //Register - Drive 7 Segment\n",
        "\n",
        "//Decode BCD NUM into corrosponding 7Segment Code; dp to ca\n",
        "//in binary\n",
        "always @(cur_num_r)\n",
        "begin\n",
        "    case(cur_num_r)\n",
        "        4'b0000:segment_r <= 8'b11000000;    //NUM \"0\"\n",
        "        4'b0001:segment_r <= 8'b11111001;    //NUM \"1\"\n",
        "        4'b0010:segment_r <= 8'b10100100;    //NUM \"2\"\n",
        "        4'b0011:segment_r <= 8'b10110000;    //NUM \"3\"\n",
        "        4'b0100:segment_r <= 8'b10011001;    //NUM \"4\"\n",
        "        4'b0101:segment_r <= 8'b10010010;    //NUM \"5\"\n",
        "        4'b0110:segment_r <= 8'b10000010;    //NUM \"6\"\n",
        "        4'b0111:segment_r <= 8'b11111000;    //NUM \"7\"\n",
        "        4'b1000:segment_r <= 8'b10000000;    //NUM \"8\"\n",
        "        4'b1001:segment_r <= 8'b10010000;    //NUM \"9\"\n",
        "        default:segment_r <= 8'hff;\n",
        "    endcase\n",
        "end\n",
        "\n",
        "endmodule\n",
        "////\n",
        "\n",
        "//\n",
        "module b7a_tb;\n",
        " wire [7:0] segment_r;\n",
        " reg [3:0] cur_num_r;\n",
        "\n",
        "b7a b7a1(segment_r,cur_num_r);\n",
        "\n",
        "initial begin\n",
        "    $dumpfile(\"b7a.vcd\");\n",
        "    $dumpvars(0,b7a_tb);\n",
        "\n",
        "    cur_num_r=4'd0;\n",
        "    #1 cur_num_r=4'd1;\n",
        "    #1 cur_num_r=4'd2;\n",
        "    #1 cur_num_r=4'd3;\n",
        "    #1 cur_num_r=4'd4;\n",
        "    #1 cur_num_r=4'd5;\n",
        "    #1 cur_num_r=4'd6;\n",
        "    #1 cur_num_r=4'd7;\n",
        "    #1 cur_num_r=4'd8;\n",
        "    #1 cur_num_r=4'd9;\n",
        "    #1 cur_num_r=4'd10;\n",
        "    #1 cur_num_r=4'd11;\n",
        "    #1 $finish;\n",
        "\n",
        "    $dumpoff;\n",
        "end\n",
        "\n",
        "endmodule\n",
        "\n",
        "////"
      ]
    },
    {
      "cell_type": "code",
      "execution_count": null,
      "metadata": {
        "id": "grHLEhKvsNtP"
      },
      "outputs": [],
      "source": [
        "%%waveform b7a.vcd\n",
        "sign_list = ['b7a_tb.b7a1.segment_r','b7a_tb.cur_num_r']\n",
        "time_begin = 0\n",
        "time_end = 11\n",
        "base = 'hex' # bin, dec, dec2, hex, octal"
      ]
    },
    {
      "cell_type": "markdown",
      "metadata": {
        "id": "ozq9VdBovB4g"
      },
      "source": [
        "Sometimes, the 7-Segment (CA to CG) and dp are not in the same case statement."
      ]
    },
    {
      "cell_type": "markdown",
      "metadata": {
        "id": "4MXVMHjpvBsp"
      },
      "source": [
        "Table 2: Truth Table for Common Anode type BCD to Seven Segment Decoder, not including DP\n",
        "\n",
        "| d |   | b3 | b2 | b1 | b0 |   | CA | CB | CC | CD | CE | CF | CG |   | Common | Cathode    | Cathode |   | Cathode    | Cathode |   |\n",
        "|:---:|:---:|:---:|:---:|:---:|:---:|:---:|:---:|:---:|:---:|:---:|:---:|:---:|:---:|:---:|:------:|:----------:|:-------:|:---:|:----------:|:-------:|:---:|\n",
        "|   |   |    |    |    |    |   |    |    |    |    |    |    |    |   | Anode  | [6:0]      | [6:0]   |   | [6:0]      | [6:0]   |   |\n",
        "| 0 |   | 0  | 0  | 0  | 0  |   | 0  | 0  | 0  | 0  | 0  | 0  | 1  |   | 1’b1   | 7’b0000001 | 7'h01   |   | 7’b1000000 | 7'h40   | 0 |\n",
        "|   |   |    |    |    |    |   |    |    |    |    |    |    |    |   |        |            |         |   |            |         |   |\n",
        "| 1 |   | 0  | 0  | 0  | 1  |   | 1  | 0  | 0  | 1  | 1  | 1  | 1  |   | 1’b1   | 7’b1001111 | 7'h4F   |   | 7’b1111001 | 7'h79   | 1 |\n",
        "|   |   |    |    |    |    |   |    |    |    |    |    |    |    |   |        |            |         |   |            |         |   |\n",
        "| 2 |   | 0  | 0  | 1  | 0  |   | 0  | 0  | 1  | 0  | 0  | 1  | 0  |   | 1’b1   | 7’b0010010 | 7'h12   |   | 7’b0100100 | 7'h24   | 2 |\n",
        "|   |   |    |    |    |    |   |    |    |    |    |    |    |    |   |        |            |         |   |            |         |   |\n",
        "| 3 |   | 0  | 0  | 1  | 1  |   | 0  | 0  | 0  | 0  | 1  | 1  | 0  |   | 1’b1   | 7’b0000110 | 7'h06   |   | 7’b0110000 | 7'h30   | 3 |\n",
        "|   |   |    |    |    |    |   |    |    |    |    |    |    |    |   |        |            |         |   |            |         |   |\n",
        "| 4 |   | 0  | 1  | 0  | 0  |   | 1  | 0  | 0  | 1  | 1  | 0  | 0  |   | 1’b1   | 7’b1001100 | 7'h4C   |   | 7’b0011001 | 7'h19   | 4 |\n",
        "|   |   |    |    |    |    |   |    |    |    |    |    |    |    |   |        |            |         |   |            |         |   |\n",
        "| 5 |   | 0  | 1  | 0  | 1  |   | 0  | 1  | 0  | 0  | 1  | 0  | 0  |   | 1’b1   | 7’b0100100 | 7'h24   |   | 7’b0010010 | 7'h12   | 5 |\n",
        "|   |   |    |    |    |    |   |    |    |    |    |    |    |    |   |        |            |         |   |            |         |   |\n",
        "| 6 |   | 0  | 1  | 1  | 0  |   | 0  | 1  | 0  | 0  | 0  | 0  | 0  |   | 1’b1   | 7’b0100000 | 7'h20   |   | 7’b0000010 | 7'h02   | 6 |\n",
        "|   |   |    |    |    |    |   |    |    |    |    |    |    |    |   |        |            |         |   |            |         |   |\n",
        "| 7 |   | 0  | 1  | 1  | 1  |   | 0  | 0  | 0  | 1  | 1  | 1  | 1  |   | 1’b1   | 7’b0001111 | 7'h0F   |   | 7’b1111000 | 7'h78   | 7 |\n",
        "|   |   |    |    |    |    |   |    |    |    |    |    |    |    |   |        |            |         |   |            |         |   |\n",
        "| 8 |   | 1  | 0  | 0  | 0  |   | 0  | 0  | 0  | 0  | 0  | 0  | 0  |   | 1’b1   | 7’b0000000 | 7'h00   |   | 7’b0000000 | 7'h00   | 8 |\n",
        "|   |   |    |    |    |    |   |    |    |    |    |    |    |    |   |        |            |         |   |            |         |   |\n",
        "| 9 |   | 1  | 0  | 0  | 1  |   | 0  | 0  | 0  | 0  | 1  | 0  | 0  |   | 1’b1   | 7’b0000100 | 7'h04   |   | 7’b0010000 | 7'h10   | 9 |\n"
      ]
    },
    {
      "cell_type": "markdown",
      "metadata": {
        "id": "hBHXCUaRxOCR"
      },
      "source": [
        "## 4 SSD"
      ]
    },
    {
      "cell_type": "markdown",
      "metadata": {
        "id": "BRJxHccaxLvh"
      },
      "source": [
        "Basys3 board has 4 7-segment displays (LED3, LED2, LED1, LED0), that can be turned on through AN[3:0]."
      ]
    },
    {
      "cell_type": "markdown",
      "metadata": {
        "id": "VQ5iA5gUxY95"
      },
      "source": [
        "\n",
        "![image.png](data:image/png;base64,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)\n",
        "\n",
        "Figure 5: 4-digit 7-segment LED display connectivity"
      ]
    },
    {
      "cell_type": "markdown",
      "metadata": {
        "id": "Idb9rbtNFRXn"
      },
      "source": [
        "## Time multiplexing"
      ]
    },
    {
      "cell_type": "markdown",
      "metadata": {
        "id": "ommX-F-my5na"
      },
      "source": [
        "The cathodes (CA ... DP) of four seven-segment LEDs on Basys 3 are connected together as shown in Figure 5. The reason is the FPGA chip has limited pin out, or it is a way of saving pin count.\n",
        "Thus, to display 4 different numbers on the 4-digit seven-segment LED display, the cathodes (CA-CG) of the four seven-segment LEDs have to be controlled separately by activating the four seven-segment LEDs at different times (Time Multiplexing).\n",
        "For example, when LED-1 is activated by driving AN1 high and the other three LEDs (LED-0, LED-2, LED-3) are deactivated (AN0, AN2, and AN3 not driven), the cathode pattern (CA-CG) will be used for displaying numbers on LED-1.\n",
        "Similarly, LED-0 - LED-3 can be displayed by using the same way at different times.\n",
        "\n",
        "As shwon in Figure 6, four seven-segment LEDs can be activated by using 4 PNP transistors AN0-AN3. When a transistor is on or the Base terminal (W4, U4, V4, or U2) is low, the corresponding anode is driven high (3.3 V) to activate or enable the corresponding seven-segment LED.\n",
        "When a LED is deactivated after illuminating, it will darken. To avoid the displaying discontinuity perceived by the human eye, the four seven-segment LEDs should be continuously refreshed at 60 Hz or above (but not too high, usually at 1 kHz), e.g. it should be refreshed at every 1 ms to 16 ms (60 Hz) to 1 ms (1 kHz).\n"
      ]
    },
    {
      "cell_type": "code",
      "execution_count": null,
      "metadata": {
        "colab": {
          "base_uri": "https://localhost:8080/"
        },
        "id": "FOxQ1hXWJDeg",
        "outputId": "d1465a83-0eb2-4eee-9629-bd31b7a48b87"
      },
      "outputs": [
        {
          "name": "stdout",
          "output_type": "stream",
          "text": [
            "For 60 Hz, t =  16.666666666666668 ms\n",
            "For 1 kHz, t =  1.0 ms\n"
          ]
        }
      ],
      "source": [
        "\n",
        "print(\"For 60 Hz, t = \", 1/60*1000, \"ms\")\n",
        "print(\"For 1 kHz, t = \", 1/1000*1000, \"ms\")\n"
      ]
    },
    {
      "cell_type": "markdown",
      "metadata": {
        "id": "Xi5whdXcIB_A"
      },
      "source": [
        "\n",
        "![image.png](data:image/png;base64,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)\n",
        "\n",
        "Figure 6: SSD driving circuit"
      ]
    },
    {
      "cell_type": "markdown",
      "metadata": {
        "id": "fCgK9gZmKheY"
      },
      "source": [
        "Verilog that related to SSD, extracted from Stopwatch code.\n",
        "\n",
        "The multiplexing frequency is 500 Hz (60 Hz to 1 kHz), almost 10 times of 50 Hz / 60 Hz, which is fast enough for eyes to detect the multiplexing sequence. The sequence rotates at:\n",
        "\n",
        "```\n",
        "DIG3 -> DIG2 -> DIG1 -> DIG4 -> DIG3\n",
        " ^                               |\n",
        " |_______________________________v\n",
        "```\n",
        "\n",
        "\n",
        "```\n",
        "case(an_r)\n",
        "        4'b0001: an_r <= 4'b0010;   //DISPLAY ON DIG3\n",
        "        4'b0010: an_r <= 4'b0100;   //DISPLAY ON DIG2\n",
        "        4'b0100: an_r <= 4'b1000;   //DISPLAY ON DIG1\n",
        "        4'b1000: an_r <= 4'b0001;   //DISPLAY ON DIG4\n",
        "        default: an_r <= 4'b0001;   //DISPLAY ON DIG4\n",
        "endcase\n",
        "```\n",
        "\n",
        "The multiplexing is achieved through \"case\" statement in synchronous \"always\" block that is triggered at 500 Hz clock positive edge.\n",
        "```\n",
        "always @(negedge rstn or posedge clk_500hz)\n",
        "```\n"
      ]
    },
    {
      "cell_type": "markdown",
      "metadata": {
        "id": "UgigNd6zVzGj"
      },
      "source": [
        "Please run the following simulation to view the wave of 7-Segment Driver;"
      ]
    },
    {
      "cell_type": "code",
      "execution_count": null,
      "metadata": {
        "id": "mLUuNN6syoDz"
      },
      "outputs": [],
      "source": [
        "%%verilog\n",
        "module drv_7segment(\n",
        "    input           rstn_i,\n",
        "    input           clk_500hz,\n",
        "    input   [3:0]   num3_i,\n",
        "    input   [3:0]   num2_i,\n",
        "    input   [3:0]   num1_i,\n",
        "    input   [3:0]   num0_i,\n",
        "    output  [3:0]   an_o,\n",
        "    output  [7:0]   seg_o\n",
        ");\n",
        "\n",
        "reg [7:0] segment_r;\n",
        "reg [3:0] cur_num_r;\n",
        "reg [3:0] an_r;\n",
        "\n",
        "assign an_o = ~an_r;       // Common anode inversion\n",
        "assign seg_o = segment_r;  // Direct segment output\n",
        "\n",
        "// Anode rotation logic\n",
        "always @(negedge rstn_i, posedge clk_500hz) begin\n",
        "    if (!rstn_i) an_r <= 4'b0000;\n",
        "    else case (an_r)\n",
        "        4'b0001: an_r <= 4'b0010;  // DIG3\n",
        "        4'b0010: an_r <= 4'b0100;  // DIG2\n",
        "        4'b0100: an_r <= 4'b1000;  // DIG1\n",
        "        default: an_r <= 4'b0001;  // DIG4 (including reset state)\n",
        "    endcase\n",
        "end\n",
        "\n",
        "// Direct input digit selection\n",
        "always @(*) begin\n",
        "    case (an_r)\n",
        "        4'b0001: cur_num_r = num0_i;  // DIG4 (LSB)\n",
        "        4'b0010: cur_num_r = num1_i;  // DIG3\n",
        "        4'b0100: cur_num_r = num2_i;  // DIG2\n",
        "        4'b1000: cur_num_r = num3_i;  // DIG1 (MSB)\n",
        "        default: cur_num_r = 4'b0;    // All off\n",
        "    endcase\n",
        "end\n",
        "\n",
        "// 7-segment decoder\n",
        "always @(*) begin\n",
        "    case (cur_num_r)\n",
        "        4'h0: segment_r = 8'hC0;  // 0\n",
        "        4'h1: segment_r = 8'hF9;  // 1\n",
        "        4'h2: segment_r = 8'hA4;  // 2\n",
        "        4'h3: segment_r = 8'hB0;  // 3\n",
        "        4'h4: segment_r = 8'h99;  // 4\n",
        "        4'h5: segment_r = 8'h92;  // 5\n",
        "        4'h6: segment_r = 8'h82;  // 6\n",
        "        4'h7: segment_r = 8'hF8;  // 7\n",
        "        4'h8: segment_r = 8'h80;  // 8\n",
        "        4'h9: segment_r = 8'h90;  // 9\n",
        "        default: segment_r = 8'hFF; // Off\n",
        "    endcase\n",
        "end\n",
        "\n",
        "endmodule\n",
        "\n",
        "\n",
        "module tb_drv_7segment();\n",
        "\n",
        "// Testbench signals\n",
        "reg dut_rstn;\n",
        "reg dut_clk_500hz;\n",
        "reg [3:0] dut_num3_i;\n",
        "reg [3:0] dut_num2_i;\n",
        "reg [3:0] dut_num1_i;\n",
        "reg [3:0] dut_num0_i;\n",
        "wire [3:0] dut_an_o;\n",
        "wire [7:0] dut_seg_o;\n",
        "\n",
        "// Instantiate DUT\n",
        "drv_7segment dut (\n",
        "    .rstn_i(dut_rstn),\n",
        "    .clk_500hz(dut_clk_500hz),\n",
        "    .num3_i(dut_num3_i),\n",
        "    .num2_i(dut_num2_i),\n",
        "    .num1_i(dut_num1_i),\n",
        "    .num0_i(dut_num0_i),\n",
        "    .an_o(dut_an_o),\n",
        "    .seg_o(dut_seg_o)\n",
        ");\n",
        "\n",
        "// Clock generation (500Hz -> 2ms period)\n",
        "always begin\n",
        "    #1 dut_clk_500hz = ~dut_clk_500hz;\n",
        "end\n",
        "\n",
        "initial begin\n",
        "    // Initialize waveform dumping\n",
        "    $dumpfile(\"tb_drv_7segment.vcd\");\n",
        "    $dumpvars(0, tb_drv_7segment);\n",
        "    $dumpon;\n",
        "\n",
        "    // Initialize signals\n",
        "    dut_clk_500hz = 0;\n",
        "    dut_rstn = 0;\n",
        "    dut_num3_i = 4'h1;\n",
        "    dut_num2_i = 4'h2;\n",
        "    dut_num1_i = 4'h3;\n",
        "    dut_num0_i = 4'h4;\n",
        "\n",
        "    // Reset sequence\n",
        "    #3 dut_rstn = 1;\n",
        "\n",
        "    // Test case 1: Normal operation\n",
        "    #10;\n",
        "\n",
        "    // Test case 2: Change input values\n",
        "    dut_num3_i = 4'h5;\n",
        "    dut_num2_i = 4'h6;\n",
        "    dut_num1_i = 4'h7;\n",
        "    dut_num0_i = 4'h8;\n",
        "    #10\n",
        "\n",
        "    // Test case 3: Invalid inputs\n",
        "    dut_num3_i = 4'hF;\n",
        "    dut_num2_i = 4'hE;\n",
        "    dut_num1_i = 4'hD;\n",
        "    dut_num0_i = 4'hC;\n",
        "    #10\n",
        "    // End simulation\n",
        "    #3 dumpoff;\n",
        "    $finish();\n",
        "end\n",
        "\n",
        "// Monitor signals\n",
        "always @(posedge dut_clk_500hz) begin\n",
        "    $display(\"Time=%0t ANODE=%4b SEG=%8b NUM3=%h NUM2=%h NUM1=%h NUM0=%h\",\n",
        "        $time, dut_an_o, dut_seg_o,\n",
        "        dut_num3_i, dut_num2_i, dut_num1_i, dut_num0_i);\n",
        "end\n",
        "\n",
        "endmodule"
      ]
    },
    {
      "cell_type": "code",
      "execution_count": null,
      "metadata": {
        "id": "ahXtkGyjyoD0"
      },
      "outputs": [],
      "source": [
        "%%waveform tb_drv_7segment.vcd\n",
        "sign_list = [\n",
        "    'dut_rstn','dut_clk_500hz','dut_num3_i','dut_num2_i','dut_num1_i','dut_num0_i','dut_an_o','dut_seg_o','dut.segment_r','dut.cur_num_r','dut.an_r'\n",
        "]\n",
        "time_begin = 0\n",
        "time_end = 160  # Covers full simulation duration\n",
        "base = 'hex'    # hex format for all values"
      ]
    }
  ],
  "metadata": {
    "colab": {
      "provenance": [],
      "include_colab_link": true
    },
    "kernelspec": {
      "display_name": "Python 3",
      "name": "python3"
    },
    "language_info": {
      "codemirror_mode": {
        "name": "ipython",
        "version": 3
      },
      "file_extension": ".py",
      "mimetype": "text/x-python",
      "name": "python",
      "nbconvert_exporter": "python",
      "pygments_lexer": "ipython3",
      "version": "3.10.12"
    }
  },
  "nbformat": 4,
  "nbformat_minor": 0
}