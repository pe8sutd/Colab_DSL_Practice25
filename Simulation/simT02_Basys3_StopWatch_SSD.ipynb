{
  "cells": [
    {
      "cell_type": "markdown",
      "metadata": {
        "id": "view-in-github",
        "colab_type": "text"
      },
      "source": [
        "<a href=\"https://colab.research.google.com/github/pe8sutd/Colab_DSL_Practice25/blob/main/Simulation/simT02_Basys3_StopWatch_SSD.ipynb\" target=\"_parent\"><img src=\"https://colab.research.google.com/assets/colab-badge.svg\" alt=\"Open In Colab\"/></a>"
      ]
    },
    {
      "cell_type": "code",
      "execution_count": 2,
      "metadata": {
        "id": "lu_dcXspNbUE",
        "colab": {
          "base_uri": "https://localhost:8080/"
        },
        "outputId": "8593154c-2192-4618-fae2-0f3c00dbe92d"
      },
      "outputs": [
        {
          "output_type": "stream",
          "name": "stdout",
          "text": [
            "[INFO]: Init the Verilog ENV\n",
            "The plugin extension is already loaded. To reload it, use:\n",
            "  %reload_ext plugin\n"
          ]
        }
      ],
      "source": [
        "print(\"[INFO]: Init the Verilog ENV\")\n",
        "!pip install git+https://github.com/pe8sutd/eda4u &> /dev/null\n",
        "!git clone https://github.com/pe8sutd/eda4u &> /dev/null\n",
        "%load_ext plugin"
      ]
    },
    {
      "cell_type": "markdown",
      "metadata": {
        "id": "BB7ehGW4N8iA"
      },
      "source": [
        "# Verilog HDL Block - SSD (Seven Segment Display)"
      ]
    },
    {
      "cell_type": "markdown",
      "metadata": {
        "id": "vmMwh9qzrYPI"
      },
      "source": [
        "## Seven Segment Display (SSD) for Basys-3"
      ]
    },
    {
      "cell_type": "markdown",
      "metadata": {
        "id": "xrz5EnqIe9dU"
      },
      "source": [
        "![Basys 3 Board Feature](https://digilent.com/reference/_media/basys3_hardware_walkaround.png)\n",
        "\n",
        "Basys 3 Board Feature"
      ]
    },
    {
      "cell_type": "markdown",
      "metadata": {
        "id": "ZiqNbGY0e-DE"
      },
      "source": [
        "![7 Segment Display](https://digilent.com/reference/_media/basys3-_seven_segment_display_driving.png?w=600&tok=0639f2)\n",
        "\n",
        "7 Segment Display"
      ]
    },
    {
      "cell_type": "markdown",
      "metadata": {
        "id": "Y9VM__8dfGq0"
      },
      "source": [
        "![7-segment LED display for decimal number from 0 to 9](https://digilent.com/reference/_media/basys3-_seven_segment_display.png?w=600&tok=b48b86)\n",
        "\n",
        "7-segment LED display for decimal number from 0 to 9"
      ]
    },
    {
      "cell_type": "markdown",
      "metadata": {
        "id": "vw04PZnifG_j"
      },
      "source": [
        "![7 Segment Display on the Basys3](https://digilent.com/reference/_media/basys3-_basic_io_block_diagram.png?w=600&tok=2661a2)\n",
        "\n",
        "Seven Segment Display (SSD) on the Basys3.\n"
      ]
    },
    {
      "cell_type": "markdown",
      "source": [
        "<img src=\"https://github.com/pe8sutd/Colab_DSL_Practice25/blob/main/Simulation/img/SSDcircuit.svg?raw=1\" width=\"250\">\n",
        "\n",
        "On Basys3 board, there are four Seven Segment Display (SSD), which are L3,L2,L1,L0. These four SSD shares the same CA to DP (W7 to V7). These SSD can be turned on through W4 to U2.   "
      ],
      "metadata": {
        "id": "kAx4QSORvp0c"
      }
    },
    {
      "cell_type": "markdown",
      "metadata": {
        "id": "AmpK01sfgrJk"
      },
      "source": [
        "Table 1: Truth Table for Common Anode type BCD to Seven Segment Decoder, including DP\n",
        "\n",
        "| x | x | x  | x  | x  | x  | x | x  |    | x  | x  | x  | x  | x  | x  | x | x      | CA to DP    | CA to DP | x | DP to CA    | DP to CA | x |\n",
        "|:---:|:---:|:---:|:---:|:---:|:---:|:---:|:---:|:---:|:---:|:---:|:---:|:---:|:---:|:---:|:---:|:------:|:-----------:|:--------:|:---:|:-----------:|:--------:|:---:|\n",
        "|   |   |    |    |    |    |   |    |    |    |    |    |    |    |    |   |        |             |          |   |             |          |   |\n",
        "| d |   | d3 | d2 | d1 | d0 |   | CA | CB | CC | CD | CE | CF | CG | DP |   | Common | Cathode     | Cathode  |   | Cathode     | Cathode  | d |\n",
        "|   |   |    |    |    |    |   |    |    |    |    |    |    |    |    |   | Anode  | [7:0]       | [7:0]    |   | [7:0]       | [7:0]    |   |\n",
        "| 0 |   | 0  | 0  | 0  | 0  |   | 0  | 0  | 0  | 0  | 0  | 0  | 1  | 1  |   | 1’b1   | 8’b00000011 | 8'h03    |   | 8’b11000000 | 8'hC0    | 0 |\n",
        "|   |   |    |    |    |    |   |    |    |    |    |    |    |    |    |   |        |             |          |   |             |          |   |\n",
        "| 1 |   | 0  | 0  | 0  | 1  |   | 1  | 0  | 0  | 1  | 1  | 1  | 1  | 1  |   | 1’b1   | 8’b10011111 | 8'h9F    |   | 8’b11111001 | 8'hF9    | 1 |\n",
        "|   |   |    |    |    |    |   |    |    |    |    |    |    |    |    |   |        |             |          |   |             |          |   |\n",
        "| 2 |   | 0  | 0  | 1  | 0  |   | 0  | 0  | 1  | 0  | 0  | 1  | 0  | 1  |   | 1’b1   | 8’b00100101 | 8'h25    |   | 8’b10100100 | 8'hA4    | 2 |\n",
        "|   |   |    |    |    |    |   |    |    |    |    |    |    |    |    |   |        |             |          |   |             |          |   |\n",
        "| 3 |   | 0  | 0  | 1  | 1  |   | 0  | 0  | 0  | 0  | 1  | 1  | 0  | 1  |   | 1’b1   | 8’b00001101 | 8'h0D    |   | 8’b10110000 | 8'hB0    | 3 |\n",
        "|   |   |    |    |    |    |   |    |    |    |    |    |    |    |    |   |        |             |          |   |             |          |   |\n",
        "| 4 |   | 0  | 1  | 0  | 0  |   | 1  | 0  | 0  | 1  | 1  | 0  | 0  | 1  |   | 1’b1   | 8’b10011001 | 8'h99    |   | 8’b10011001 | 8'h99    | 4 |\n",
        "|   |   |    |    |    |    |   |    |    |    |    |    |    |    |    |   |        |             |          |   |             |          |   |\n",
        "| 5 |   | 0  | 1  | 0  | 1  |   | 0  | 1  | 0  | 0  | 1  | 0  | 0  | 1  |   | 1’b1   | 8’b01001001 | 8'h49    |   | 8’b10010010 | 8'h92    | 5 |\n",
        "|   |   |    |    |    |    |   |    |    |    |    |    |    |    |    |   |        |             |          |   |             |          |   |\n",
        "| 6 |   | 0  | 1  | 1  | 0  |   | 0  | 1  | 0  | 0  | 0  | 0  | 0  | 1  |   | 1’b1   | 8’b01000001 | 8'h41    |   | 8’b10000010 | 8'h82    | 6 |\n",
        "|   |   |    |    |    |    |   |    |    |    |    |    |    |    |    |   |        |             |          |   |             |          |   |\n",
        "| 7 |   | 0  | 1  | 1  | 1  |   | 0  | 0  | 0  | 1  | 1  | 1  | 1  | 1  |   | 1’b1   | 8’b00011111 | 8'h1F    |   | 8’b11111000 | 8'hF8    | 7 |\n",
        "|   |   |    |    |    |    |   |    |    |    |    |    |    |    |    |   |        |             |          |   |             |          |   |\n",
        "| 8 |   | 1  | 0  | 0  | 0  |   | 0  | 0  | 0  | 0  | 0  | 0  | 0  | 1  |   | 1’b1   | 8’b00000001 | 8'h01    |   | 8’b10000000 | 8'h80    | 8 |\n",
        "|   |   |    |    |    |    |   |    |    |    |    |    |    |    |    |   |        |             |          |   |             |          |   |\n",
        "| 9 |   | 1  | 0  | 0  | 1  |   | 0  | 0  | 0  | 0  | 1  | 0  | 0  | 1  |   | 1’b1   | 8’b00001001 | 8'h09    |   | 8’b10010000 | 8'h09    | 9 |\n",
        "\n",
        "\n",
        "\n"
      ]
    },
    {
      "cell_type": "markdown",
      "metadata": {
        "id": "shxev8YRheYc"
      },
      "source": [
        "## Look-up Table using \"case\" statement"
      ]
    },
    {
      "cell_type": "markdown",
      "metadata": {
        "id": "Z6O9FPhzrPII"
      },
      "source": [
        "Using case statement, the Verilog code for this module can be implemented by directly mapping the Truth Table to the case statement. Take note to include a default statement."
      ]
    },
    {
      "cell_type": "markdown",
      "metadata": {
        "id": "goGzViNFeG02"
      },
      "source": [
        "\n",
        "```\n",
        "//Decode BCD NUM into corrosponding 7Segment Code; dp to ca\n",
        "//in binary\n",
        "always @(cur_num_r) begin\n",
        "    case(cur_num_r)\n",
        "        4'b0000:segment_r <= 8'b11000000;    //NUM \"0\"\n",
        "        4'b0001:segment_r <= 8'b11111001;    //NUM \"1\"\n",
        "        4'b0010:segment_r <= 8'b10100100;    //NUM \"2\"\n",
        "        4'b0011:segment_r <= 8'b10110000;    //NUM \"3\"\n",
        "        4'b0100:segment_r <= 8'b10011001;    //NUM \"4\"\n",
        "        4'b0101:segment_r <= 8'b10010010;    //NUM \"5\"\n",
        "        4'b0110:segment_r <= 8'b10000010;    //NUM \"6\"\n",
        "        4'b0111:segment_r <= 8'h11111000;    //NUM \"7\"\n",
        "        4'b1000:segment_r <= 8'h10000000;    //NUM \"8\"\n",
        "        4'b1001:segment_r <= 8'h10010000;    //NUM \"9\"\n",
        "        default: segment_r <= 8'hff;\n",
        "    endcase\n",
        "end\n",
        "```\n",
        "\n",
        "The binary number is more often represented in hex.\n",
        "\n",
        "```\n",
        "//Decode BCD NUM into corrosponding 7Segment Code; dp to ca\n",
        "//in hex\n",
        "always @(cur_num_r)\n",
        "begin\n",
        "    case(cur_num_r)\n",
        "        4'd0:segment_r <= 8'hc0;    //NUM \"0\"\n",
        "        4'd1:segment_r <= 8'hf9;    //NUM \"1\"\n",
        "        4'd2:segment_r <= 8'ha4;    //NUM \"2\"\n",
        "        4'd3:segment_r <= 8'hb0;    //NUM \"3\"\n",
        "        4'd4:segment_r <= 8'h99;    //NUM \"4\"\n",
        "        4'd5:segment_r <= 8'h92;    //NUM \"5\"\n",
        "        4'd6:segment_r <= 8'h82;    //NUM \"6\"\n",
        "        4'd7:segment_r <= 8'hF8;    //NUM \"7\"\n",
        "        4'd8:segment_r <= 8'h80;    //NUM \"8\"\n",
        "        4'd9:segment_r <= 8'h90;    //NUM \"9\"\n",
        "        default: segment_r <= 8'hff;\n",
        "    endcase\n",
        "end\n",
        "```\n"
      ]
    },
    {
      "cell_type": "markdown",
      "metadata": {
        "id": "hso2fTBIrvIg"
      },
      "source": [
        "The above core can be part of the module below."
      ]
    },
    {
      "cell_type": "code",
      "execution_count": null,
      "metadata": {
        "collapsed": true,
        "id": "FMBzQsBZsINZ"
      },
      "outputs": [],
      "source": [
        "%%print_verilog\n",
        "\n",
        "//\n",
        "module b7a(segment_r,cur_num_r);\n",
        " output [7:0] segment_r;\n",
        " input [3:0] cur_num_r;\n",
        "\n",
        "reg [7:0] segment_r;        //Register - Drive 7 Segment\n",
        "\n",
        "//Decode BCD NUM into corrosponding 7Segment Code; dp to ca\n",
        "//in binary\n",
        "always @(cur_num_r)\n",
        "begin\n",
        "    case(cur_num_r)\n",
        "        4'b0000:segment_r <= 8'b11000000;    //NUM \"0\"\n",
        "        4'b0001:segment_r <= 8'b11111001;    //NUM \"1\"\n",
        "        4'b0010:segment_r <= 8'b10100100;    //NUM \"2\"\n",
        "        4'b0011:segment_r <= 8'b10110000;    //NUM \"3\"\n",
        "        4'b0100:segment_r <= 8'b10011001;    //NUM \"4\"\n",
        "        4'b0101:segment_r <= 8'b10010010;    //NUM \"5\"\n",
        "        4'b0110:segment_r <= 8'b10000010;    //NUM \"6\"\n",
        "        4'b0111:segment_r <= 8'b11111000;    //NUM \"7\"\n",
        "        4'b1000:segment_r <= 8'b10000000;    //NUM \"8\"\n",
        "        4'b1001:segment_r <= 8'b10010000;    //NUM \"9\"\n",
        "        default:segment_r <= 8'hff;\n",
        "    endcase\n",
        "end\n",
        "\n",
        "endmodule"
      ]
    },
    {
      "cell_type": "code",
      "execution_count": null,
      "metadata": {
        "id": "mj-ujkGmrwN4"
      },
      "outputs": [],
      "source": [
        "%%verilog\n",
        "\n",
        "//\n",
        "module b7a(segment_r,cur_num_r);\n",
        " output [7:0] segment_r;\n",
        " input [3:0] cur_num_r;\n",
        "\n",
        "reg [7:0] segment_r;        //Register - Drive 7 Segment\n",
        "\n",
        "//Decode BCD NUM into corrosponding 7Segment Code; dp to ca\n",
        "//in binary\n",
        "always @(cur_num_r)\n",
        "begin\n",
        "    case(cur_num_r)\n",
        "        4'b0000:segment_r <= 8'b11000000;    //NUM \"0\"\n",
        "        4'b0001:segment_r <= 8'b11111001;    //NUM \"1\"\n",
        "        4'b0010:segment_r <= 8'b10100100;    //NUM \"2\"\n",
        "        4'b0011:segment_r <= 8'b10110000;    //NUM \"3\"\n",
        "        4'b0100:segment_r <= 8'b10011001;    //NUM \"4\"\n",
        "        4'b0101:segment_r <= 8'b10010010;    //NUM \"5\"\n",
        "        4'b0110:segment_r <= 8'b10000010;    //NUM \"6\"\n",
        "        4'b0111:segment_r <= 8'b11111000;    //NUM \"7\"\n",
        "        4'b1000:segment_r <= 8'b10000000;    //NUM \"8\"\n",
        "        4'b1001:segment_r <= 8'b10010000;    //NUM \"9\"\n",
        "        default:segment_r <= 8'hff;\n",
        "    endcase\n",
        "end\n",
        "\n",
        "endmodule\n",
        "////\n",
        "\n",
        "//\n",
        "module b7a_tb;\n",
        " wire [7:0] segment_r;\n",
        " reg [3:0] cur_num_r;\n",
        "\n",
        "b7a b7a1(segment_r,cur_num_r);\n",
        "\n",
        "initial begin\n",
        "    $dumpfile(\"b7a.vcd\");\n",
        "    $dumpvars(0,b7a_tb);\n",
        "\n",
        "    cur_num_r=4'd0;\n",
        "    #1 cur_num_r=4'd1;\n",
        "    #1 cur_num_r=4'd2;\n",
        "    #1 cur_num_r=4'd3;\n",
        "    #1 cur_num_r=4'd4;\n",
        "    #1 cur_num_r=4'd5;\n",
        "    #1 cur_num_r=4'd6;\n",
        "    #1 cur_num_r=4'd7;\n",
        "    #1 cur_num_r=4'd8;\n",
        "    #1 cur_num_r=4'd9;\n",
        "    #1 cur_num_r=4'd10;\n",
        "    #1 cur_num_r=4'd11;\n",
        "    #1 $finish;\n",
        "\n",
        "    $dumpoff;\n",
        "end\n",
        "\n",
        "endmodule\n",
        "\n",
        "////"
      ]
    },
    {
      "cell_type": "code",
      "execution_count": null,
      "metadata": {
        "id": "grHLEhKvsNtP"
      },
      "outputs": [],
      "source": [
        "%%waveform b7a.vcd\n",
        "sign_list = ['b7a_tb.b7a1.segment_r','b7a_tb.cur_num_r']\n",
        "time_begin = 0\n",
        "time_end = 11\n",
        "base = 'hex' # bin, dec, dec2, hex, octal"
      ]
    },
    {
      "cell_type": "markdown",
      "metadata": {
        "id": "ozq9VdBovB4g"
      },
      "source": [
        "Sometimes, the 7-Segment (CA to CG) and dp are not in the same case statement."
      ]
    },
    {
      "cell_type": "markdown",
      "metadata": {
        "id": "4MXVMHjpvBsp"
      },
      "source": [
        "Table 2: Truth Table for Common Anode type BCD to Seven Segment Decoder, not including DP\n",
        "\n",
        "| d |   | b3 | b2 | b1 | b0 |   | CA | CB | CC | CD | CE | CF | CG |   | Common | Cathode    | Cathode |   | Cathode    | Cathode |   |\n",
        "|:---:|:---:|:---:|:---:|:---:|:---:|:---:|:---:|:---:|:---:|:---:|:---:|:---:|:---:|:---:|:------:|:----------:|:-------:|:---:|:----------:|:-------:|:---:|\n",
        "|   |   |    |    |    |    |   |    |    |    |    |    |    |    |   | Anode  | [6:0]      | [6:0]   |   | [6:0]      | [6:0]   |   |\n",
        "| 0 |   | 0  | 0  | 0  | 0  |   | 0  | 0  | 0  | 0  | 0  | 0  | 1  |   | 1’b1   | 7’b0000001 | 7'h01   |   | 7’b1000000 | 7'h40   | 0 |\n",
        "|   |   |    |    |    |    |   |    |    |    |    |    |    |    |   |        |            |         |   |            |         |   |\n",
        "| 1 |   | 0  | 0  | 0  | 1  |   | 1  | 0  | 0  | 1  | 1  | 1  | 1  |   | 1’b1   | 7’b1001111 | 7'h4F   |   | 7’b1111001 | 7'h79   | 1 |\n",
        "|   |   |    |    |    |    |   |    |    |    |    |    |    |    |   |        |            |         |   |            |         |   |\n",
        "| 2 |   | 0  | 0  | 1  | 0  |   | 0  | 0  | 1  | 0  | 0  | 1  | 0  |   | 1’b1   | 7’b0010010 | 7'h12   |   | 7’b0100100 | 7'h24   | 2 |\n",
        "|   |   |    |    |    |    |   |    |    |    |    |    |    |    |   |        |            |         |   |            |         |   |\n",
        "| 3 |   | 0  | 0  | 1  | 1  |   | 0  | 0  | 0  | 0  | 1  | 1  | 0  |   | 1’b1   | 7’b0000110 | 7'h06   |   | 7’b0110000 | 7'h30   | 3 |\n",
        "|   |   |    |    |    |    |   |    |    |    |    |    |    |    |   |        |            |         |   |            |         |   |\n",
        "| 4 |   | 0  | 1  | 0  | 0  |   | 1  | 0  | 0  | 1  | 1  | 0  | 0  |   | 1’b1   | 7’b1001100 | 7'h4C   |   | 7’b0011001 | 7'h19   | 4 |\n",
        "|   |   |    |    |    |    |   |    |    |    |    |    |    |    |   |        |            |         |   |            |         |   |\n",
        "| 5 |   | 0  | 1  | 0  | 1  |   | 0  | 1  | 0  | 0  | 1  | 0  | 0  |   | 1’b1   | 7’b0100100 | 7'h24   |   | 7’b0010010 | 7'h12   | 5 |\n",
        "|   |   |    |    |    |    |   |    |    |    |    |    |    |    |   |        |            |         |   |            |         |   |\n",
        "| 6 |   | 0  | 1  | 1  | 0  |   | 0  | 1  | 0  | 0  | 0  | 0  | 0  |   | 1’b1   | 7’b0100000 | 7'h20   |   | 7’b0000010 | 7'h02   | 6 |\n",
        "|   |   |    |    |    |    |   |    |    |    |    |    |    |    |   |        |            |         |   |            |         |   |\n",
        "| 7 |   | 0  | 1  | 1  | 1  |   | 0  | 0  | 0  | 1  | 1  | 1  | 1  |   | 1’b1   | 7’b0001111 | 7'h0F   |   | 7’b1111000 | 7'h78   | 7 |\n",
        "|   |   |    |    |    |    |   |    |    |    |    |    |    |    |   |        |            |         |   |            |         |   |\n",
        "| 8 |   | 1  | 0  | 0  | 0  |   | 0  | 0  | 0  | 0  | 0  | 0  | 0  |   | 1’b1   | 7’b0000000 | 7'h00   |   | 7’b0000000 | 7'h00   | 8 |\n",
        "|   |   |    |    |    |    |   |    |    |    |    |    |    |    |   |        |            |         |   |            |         |   |\n",
        "| 9 |   | 1  | 0  | 0  | 1  |   | 0  | 0  | 0  | 0  | 1  | 0  | 0  |   | 1’b1   | 7’b0000100 | 7'h04   |   | 7’b0010000 | 7'h10   | 9 |\n"
      ]
    },
    {
      "cell_type": "markdown",
      "metadata": {
        "id": "hBHXCUaRxOCR"
      },
      "source": [
        "## 4 SSD"
      ]
    },
    {
      "cell_type": "markdown",
      "metadata": {
        "id": "BRJxHccaxLvh"
      },
      "source": [
        "Basys3 board has four 7-segment displays (L3, L2, L1, L0), that can be turned on through AN[3:0].\n",
        "\n",
        "<img src=\"https://github.com/pe8sutd/Colab_DSL_Practice25/blob/main/Simulation/img/SSDcircuit.svg?raw=1\" width=\"250\">"
      ]
    },
    {
      "cell_type": "markdown",
      "metadata": {
        "id": "Idb9rbtNFRXn"
      },
      "source": [
        "## Time multiplexing"
      ]
    },
    {
      "cell_type": "markdown",
      "metadata": {
        "id": "ommX-F-my5na"
      },
      "source": [
        "The cathodes (CA ... DP) of four seven-segment LEDs on Basys 3 are connected together as shown in Figure 5. The reason is the FPGA chip has limited pin out, or it is a way of saving pin count.\n",
        "Thus, to display 4 different numbers on the 4-digit seven-segment LED display, the cathodes (CA-CG) of the four seven-segment LEDs have to be controlled separately by activating the four seven-segment LEDs at different times (Time Multiplexing).\n",
        "For example, when LED-1 is activated by driving AN1 high and the other three LEDs (LED-0, LED-2, LED-3) are deactivated (AN0, AN2, and AN3 not driven), the cathode pattern (CA-CG) will be used for displaying numbers on LED-1.\n",
        "Similarly, LED-0 - LED-3 can be displayed by using the same way at different times.\n",
        "\n",
        "As shwon in Figure 6, four seven-segment LEDs can be activated by using 4 PNP transistors AN0-AN3. When a transistor is on or the Base terminal (W4, U4, V4, or U2) is low, the corresponding anode is driven high (3.3 V) to activate or enable the corresponding seven-segment LED.\n",
        "When a LED is deactivated after illuminating, it will darken. To avoid the displaying discontinuity perceived by the human eye, the four seven-segment LEDs should be continuously refreshed at 60 Hz or above (but not too high, usually at 1 kHz), e.g. it should be refreshed at every 1 ms to 16 ms (60 Hz) to 1 ms (1 kHz).\n"
      ]
    },
    {
      "cell_type": "code",
      "execution_count": null,
      "metadata": {
        "colab": {
          "base_uri": "https://localhost:8080/"
        },
        "id": "FOxQ1hXWJDeg",
        "outputId": "d1465a83-0eb2-4eee-9629-bd31b7a48b87"
      },
      "outputs": [
        {
          "name": "stdout",
          "output_type": "stream",
          "text": [
            "For 60 Hz, t =  16.666666666666668 ms\n",
            "For 1 kHz, t =  1.0 ms\n"
          ]
        }
      ],
      "source": [
        "\n",
        "print(\"For 60 Hz, t = \", 1/60*1000, \"ms\")\n",
        "print(\"For 1 kHz, t = \", 1/1000*1000, \"ms\")\n"
      ]
    },
    {
      "cell_type": "code",
      "source": [
        "\n",
        "\n",
        "\n",
        "Simulation/img/SSDcircuit.svg"
      ],
      "metadata": {
        "id": "_4M1MjemmEiz"
      },
      "execution_count": null,
      "outputs": []
    },
    {
      "cell_type": "markdown",
      "metadata": {
        "id": "Xi5whdXcIB_A"
      },
      "source": [
        "\n",
        "![image.png](data:image/png;base64,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)\n",
        "\n",
        "Figure 6: SSD driving circuit"
      ]
    },
    {
      "cell_type": "markdown",
      "metadata": {
        "id": "fCgK9gZmKheY"
      },
      "source": [
        "Verilog that related to SSD, extracted from Stopwatch code.\n",
        "\n",
        "The multiplexing frequency is 500 Hz (60 Hz to 1 kHz), almost 10 times of 50 Hz / 60 Hz, which is fast enough for eyes to detect the multiplexing sequence. The sequence rotates at:\n",
        "\n",
        "```\n",
        "DIG3 -> DIG2 -> DIG1 -> DIG4 -> DIG3\n",
        " ^                               |\n",
        " |_______________________________v\n",
        "```\n",
        "\n",
        "\n",
        "```\n",
        "case(an_r)\n",
        "        4'b0001: an_r <= 4'b0010;   //DISPLAY ON DIG3\n",
        "        4'b0010: an_r <= 4'b0100;   //DISPLAY ON DIG2\n",
        "        4'b0100: an_r <= 4'b1000;   //DISPLAY ON DIG1\n",
        "        4'b1000: an_r <= 4'b0001;   //DISPLAY ON DIG4\n",
        "        default: an_r <= 4'b0001;   //DISPLAY ON DIG4\n",
        "endcase\n",
        "```\n",
        "\n",
        "The multiplexing is achieved through \"case\" statement in synchronous \"always\" block that is triggered at 500 Hz clock positive edge.\n",
        "```\n",
        "always @(negedge rstn or posedge clk_500hz)\n",
        "```\n"
      ]
    },
    {
      "cell_type": "markdown",
      "metadata": {
        "id": "UgigNd6zVzGj"
      },
      "source": [
        "Please run the following simulation to view the wave of 7-Segment Driver;"
      ]
    },
    {
      "cell_type": "code",
      "execution_count": null,
      "metadata": {
        "id": "mLUuNN6syoDz"
      },
      "outputs": [],
      "source": [
        "%%verilog\n",
        "module drv_7segment(\n",
        "    input           rstn_i,\n",
        "    input           clk_500hz,\n",
        "    input   [3:0]   num3_i,\n",
        "    input   [3:0]   num2_i,\n",
        "    input   [3:0]   num1_i,\n",
        "    input   [3:0]   num0_i,\n",
        "    output  [3:0]   an_o,\n",
        "    output  [7:0]   seg_o\n",
        ");\n",
        "\n",
        "reg [7:0] segment_r;\n",
        "reg [3:0] cur_num_r;\n",
        "reg [3:0] an_r;\n",
        "\n",
        "assign an_o = ~an_r;       // Common anode inversion\n",
        "assign seg_o = segment_r;  // Direct segment output\n",
        "\n",
        "// Anode rotation logic\n",
        "always @(negedge rstn_i, posedge clk_500hz) begin\n",
        "    if (!rstn_i) an_r <= 4'b0000;\n",
        "    else case (an_r)\n",
        "        4'b0001: an_r <= 4'b0010;  // DIG3\n",
        "        4'b0010: an_r <= 4'b0100;  // DIG2\n",
        "        4'b0100: an_r <= 4'b1000;  // DIG1\n",
        "        default: an_r <= 4'b0001;  // DIG4 (including reset state)\n",
        "    endcase\n",
        "end\n",
        "\n",
        "// Direct input digit selection\n",
        "always @(*) begin\n",
        "    case (an_r)\n",
        "        4'b0001: cur_num_r = num0_i;  // DIG4 (LSB)\n",
        "        4'b0010: cur_num_r = num1_i;  // DIG3\n",
        "        4'b0100: cur_num_r = num2_i;  // DIG2\n",
        "        4'b1000: cur_num_r = num3_i;  // DIG1 (MSB)\n",
        "        default: cur_num_r = 4'b0;    // All off\n",
        "    endcase\n",
        "end\n",
        "\n",
        "// 7-segment decoder\n",
        "always @(*) begin\n",
        "    case (cur_num_r)\n",
        "        4'h0: segment_r = 8'hC0;  // 0\n",
        "        4'h1: segment_r = 8'hF9;  // 1\n",
        "        4'h2: segment_r = 8'hA4;  // 2\n",
        "        4'h3: segment_r = 8'hB0;  // 3\n",
        "        4'h4: segment_r = 8'h99;  // 4\n",
        "        4'h5: segment_r = 8'h92;  // 5\n",
        "        4'h6: segment_r = 8'h82;  // 6\n",
        "        4'h7: segment_r = 8'hF8;  // 7\n",
        "        4'h8: segment_r = 8'h80;  // 8\n",
        "        4'h9: segment_r = 8'h90;  // 9\n",
        "        default: segment_r = 8'hFF; // Off\n",
        "    endcase\n",
        "end\n",
        "\n",
        "endmodule\n",
        "\n",
        "\n",
        "module tb_drv_7segment();\n",
        "\n",
        "// Testbench signals\n",
        "reg dut_rstn;\n",
        "reg dut_clk_500hz;\n",
        "reg [3:0] dut_num3_i;\n",
        "reg [3:0] dut_num2_i;\n",
        "reg [3:0] dut_num1_i;\n",
        "reg [3:0] dut_num0_i;\n",
        "wire [3:0] dut_an_o;\n",
        "wire [7:0] dut_seg_o;\n",
        "\n",
        "// Instantiate DUT\n",
        "drv_7segment dut (\n",
        "    .rstn_i(dut_rstn),\n",
        "    .clk_500hz(dut_clk_500hz),\n",
        "    .num3_i(dut_num3_i),\n",
        "    .num2_i(dut_num2_i),\n",
        "    .num1_i(dut_num1_i),\n",
        "    .num0_i(dut_num0_i),\n",
        "    .an_o(dut_an_o),\n",
        "    .seg_o(dut_seg_o)\n",
        ");\n",
        "\n",
        "// Clock generation (500Hz -> 2ms period)\n",
        "always begin\n",
        "    #1 dut_clk_500hz = ~dut_clk_500hz;\n",
        "end\n",
        "\n",
        "initial begin\n",
        "    // Initialize waveform dumping\n",
        "    $dumpfile(\"tb_drv_7segment.vcd\");\n",
        "    $dumpvars(0, tb_drv_7segment);\n",
        "    $dumpon;\n",
        "\n",
        "    // Initialize signals\n",
        "    dut_clk_500hz = 0;\n",
        "    dut_rstn = 0;\n",
        "    dut_num3_i = 4'h1;\n",
        "    dut_num2_i = 4'h2;\n",
        "    dut_num1_i = 4'h3;\n",
        "    dut_num0_i = 4'h4;\n",
        "\n",
        "    // Reset sequence\n",
        "    #3 dut_rstn = 1;\n",
        "\n",
        "    // Test case 1: Normal operation\n",
        "    #10;\n",
        "\n",
        "    // Test case 2: Change input values\n",
        "    dut_num3_i = 4'h5;\n",
        "    dut_num2_i = 4'h6;\n",
        "    dut_num1_i = 4'h7;\n",
        "    dut_num0_i = 4'h8;\n",
        "    #10\n",
        "\n",
        "    // Test case 3: Invalid inputs\n",
        "    dut_num3_i = 4'hF;\n",
        "    dut_num2_i = 4'hE;\n",
        "    dut_num1_i = 4'hD;\n",
        "    dut_num0_i = 4'hC;\n",
        "    #10\n",
        "    // End simulation\n",
        "    #3 dumpoff;\n",
        "    $finish();\n",
        "end\n",
        "\n",
        "// Monitor signals\n",
        "always @(posedge dut_clk_500hz) begin\n",
        "    $display(\"Time=%0t ANODE=%4b SEG=%8b NUM3=%h NUM2=%h NUM1=%h NUM0=%h\",\n",
        "        $time, dut_an_o, dut_seg_o,\n",
        "        dut_num3_i, dut_num2_i, dut_num1_i, dut_num0_i);\n",
        "end\n",
        "\n",
        "endmodule"
      ]
    },
    {
      "cell_type": "code",
      "execution_count": null,
      "metadata": {
        "id": "ahXtkGyjyoD0"
      },
      "outputs": [],
      "source": [
        "%%waveform tb_drv_7segment.vcd\n",
        "sign_list = [\n",
        "    'dut_rstn','dut_clk_500hz','dut_num3_i','dut_num2_i','dut_num1_i','dut_num0_i','dut_an_o','dut_seg_o','dut.segment_r','dut.cur_num_r','dut.an_r'\n",
        "]\n",
        "time_begin = 0\n",
        "time_end = 160  # Covers full simulation duration\n",
        "base = 'hex'    # hex format for all values"
      ]
    }
  ],
  "metadata": {
    "colab": {
      "provenance": [],
      "include_colab_link": true
    },
    "kernelspec": {
      "display_name": "Python 3",
      "name": "python3"
    },
    "language_info": {
      "codemirror_mode": {
        "name": "ipython",
        "version": 3
      },
      "file_extension": ".py",
      "mimetype": "text/x-python",
      "name": "python",
      "nbconvert_exporter": "python",
      "pygments_lexer": "ipython3",
      "version": "3.10.12"
    }
  },
  "nbformat": 4,
  "nbformat_minor": 0
}